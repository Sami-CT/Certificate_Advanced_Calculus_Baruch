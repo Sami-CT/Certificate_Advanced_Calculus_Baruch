{
 "cells": [
  {
   "cell_type": "markdown",
   "metadata": {},
   "source": [
    "# Scripts for Final Exam"
   ]
  },
  {
   "cell_type": "markdown",
   "metadata": {},
   "source": [
    "## Index\n",
    "\n",
    "**Numerical Integration:** [(here)](#Numerical-Integration)  \n",
    "* Midpoint Rule\n",
    "* Trapezoidal Rule\n",
    "* Simpson's Rule  \n",
    "* Approximate vale of an integral given tolerance\n",
    "\n",
    "**Bonds:**  [(here)](#Bonds)\n",
    "* Bond price given zero rate curve\n",
    "* Bond price given instantaneous interest rate curve **[TODO]**\n",
    "* Price, Duration and Convexity of bond given yield\n",
    "* Bond yield\n",
    "* Boostrapping\n",
    "\n",
    "**Options:** [(here)](#Options)\n",
    "* Normal CDF\n",
    "* Black Scholes European\n",
    "* Implied Volatility\n",
    "* Implied Strike\n",
    "\n",
    "**Numerical Nonlinear Equations:** [(here)](#Numerical-Nonlinear-Equations) \n",
    "* Bisection Method **[FIX, DOESN'T WORK]**\n",
    "* Secant Method\n",
    "* Newton's Method\n",
    "\n",
    "**Previous Exams** [(here)](#Previous\n",
    "-Exams) \n",
    "* Fall 2016 \n",
    "\n",
    "**Examples:** [(here)](#Examples) \n",
    "* Numerical Integration\n",
    "* Bonds\n",
    "* Options\n",
    "* Numerical Nonlinear Equations\n",
    "\n",
    "**Miscelanea:**\n",
    "* Solve linear systems of equations\n",
    "* Greeks\n",
    "\n",
    "**TODOs:**\n",
    "* N-dim Newton's Method?\n",
    "* N-dim Approximate Newton's Method?"
   ]
  },
  {
   "cell_type": "markdown",
   "metadata": {},
   "source": [
    "## Imports"
   ]
  },
  {
   "cell_type": "code",
   "execution_count": 3,
   "metadata": {},
   "outputs": [],
   "source": [
    "from __future__ import division\n",
    "import numpy as np\n",
    "import matplotlib.pyplot as plt\n",
    "import pandas as pd\n",
    "\n",
    "from functools import partial\n",
    "from math import log, exp, sqrt \n",
    "%matplotlib inline"
   ]
  },
  {
   "cell_type": "markdown",
   "metadata": {},
   "source": [
    "## Numerical Integration"
   ]
  },
  {
   "cell_type": "code",
   "execution_count": 4,
   "metadata": {},
   "outputs": [],
   "source": [
    "def midpoint_rule(a,b,n, f_int_x):\n",
    "    '''\n",
    "    Inputs:\n",
    "        a: left endpoint of the integration interval\n",
    "        b: right endpoint of the integration interval\n",
    "        n: number of partition intervals\n",
    "        f_int_x: function evaluating f(x)\n",
    "        \n",
    "    Output:\n",
    "        I_midpoint: Midpoint Rule approximation of \n",
    "                    integral of f(x) from b to a\n",
    "    '''\n",
    "    h = (b-a)/n\n",
    "    I_midpoint = 0\n",
    "    for i in range(1,n+1):\n",
    "        I_midpoint = I_midpoint + f_int_x(a + (i - 1/2) * h)\n",
    "    I_midpoint = h * I_midpoint\n",
    "    return I_midpoint\n",
    "\n",
    "def trapezoidal_rule(a,b,n, f_int_x):\n",
    "    '''\n",
    "    Inputs:\n",
    "        a: left endpoint of the integration interval\n",
    "        b: right endpoint of the integration interval\n",
    "        n: number of partition intervals\n",
    "        f_int_x: function evaluating f(x)\n",
    "        \n",
    "    Output:\n",
    "        I_midpoint: Midpoint Rule approximation of \n",
    "                    integral of f(x) from b to a\n",
    "    '''\n",
    "    h = (b-a)/n\n",
    "    I_trap = f_int_x(a)/2 + f_int_x(b)/2\n",
    "    for i in range(1,n):\n",
    "        I_trap = I_trap + f_int_x(a + i * h)\n",
    "    I_trap = h * I_trap\n",
    "    return I_trap\n",
    "\n",
    "def simpson_rule(a,b,n, f_int_x):\n",
    "    '''\n",
    "    Inputs:\n",
    "        a: left endpoint of the integration interval\n",
    "        b: right endpoint of the integration interval\n",
    "        n: number of partition intervals\n",
    "        f_int_x: function evaluating f(x)\n",
    "        \n",
    "    Output:\n",
    "        I_simpson: Simpson's Rule approximation of \n",
    "                    integral of f(x) from b to a\n",
    "    '''\n",
    "    h = (b-a)/n\n",
    "    I_simpson = f_int_x(a)/6 + f_int_x(b)/6 \n",
    "    for i in range(1,n):\n",
    "        I_simpson = I_simpson + f_int_x(a + (i*h))/3\n",
    "    for i in range(1,n+1):\n",
    "        I_simpson = I_simpson + 2 * f_int_x(a + (i - 1/2) * h) / 3\n",
    "    \n",
    "    I_simpson = h * I_simpson\n",
    "    return I_simpson\n",
    "\n",
    "def integral_approx(tol, I_numerical_n):\n",
    "    ''' \n",
    "    Inputs:\n",
    "        tol: prescribed tolerance\n",
    "        I_numerical_n: result of the numerical integration rule\n",
    "        with n intervals; any integration rule can be used\n",
    "        \n",
    "    Outputs:\n",
    "        I_approx: approximation of integral of f(x) from a to b with tolerance tol\n",
    "    '''\n",
    "    n = 4\n",
    "    I_old = I_numerical_n(n=n)\n",
    "    n = 2*n\n",
    "    I_new = I_numerical_n(n=n)\n",
    "    int_results = []\n",
    "    while np.abs(I_new - I_old) > tol:\n",
    "        I_old  = I_new\n",
    "        n = 2*n\n",
    "        I_new = I_numerical_n(n=n)\n",
    "        int_results.append( (n,I_new) )\n",
    "    I_approx = I_new\n",
    "    return I_approx, int_results"
   ]
  },
  {
   "cell_type": "markdown",
   "metadata": {},
   "source": [
    "[Back to Index](#Index)"
   ]
  },
  {
   "cell_type": "markdown",
   "metadata": {},
   "source": [
    "## Bonds"
   ]
  },
  {
   "cell_type": "code",
   "execution_count": 439,
   "metadata": {},
   "outputs": [],
   "source": [
    "def get_value_cash_flows(n, C, FV = 100):\n",
    "    ''' \n",
    "       Computes the value of the cash flows given constant coupon rate \"C\" in \"n\" periods \n",
    "       for a bond with face value \"FV\" \n",
    "    '''\n",
    "    \n",
    "    cash_flows = [C * FV,] *n\n",
    "    cash_flows[-1] += FV  # add principal at final cash flow \n",
    "    return cash_flows\n",
    "\n",
    "# Bond price given zero rate curve\n",
    "def risk_zero_curve(t):\n",
    "    return 0.015 + t/(100+np.sqrt(1+t**2))\n",
    "\n",
    "def bond_price(t_cash_flow,v_cash_flow):\n",
    "    ''' \n",
    "        Compute bond price from cash flows, coupon schedule and risk-free zero rate curve\n",
    "    '''\n",
    "    r_0_t = np.array([risk_zero_curve(x) for x in t_cash_flow])\n",
    "    t_cash_flow = np.array(t_cash_flow)  \n",
    "    disc = np.exp(-r_0_t * t_cash_flow)\n",
    "    return (disc * np.array(v_cash_flow)).sum()\n",
    "\n",
    "# Bond price given instantaneous interest rate curve\n",
    "# [TODO]\n",
    "\n",
    "# Price, Duration and Convexity of bond given yield\n",
    "def price_duration_convexity(n,t_cash_flow,v_cash_flow, y):\n",
    "    '''\n",
    "    Implementation of pseudocode from table 2.7 of the book \n",
    "    \"A Primer for the Mathematics of Financial Engineering\"\n",
    "        Inputs:\n",
    "            T: bond maturity\n",
    "            n: number of cash flows\n",
    "            t_cash_flow: vector of cash flows (of size n)\n",
    "            v_cash_flow: vector of cash flows (of size n)\n",
    "            y: yield of the bond\n",
    "            \n",
    "        Outputs:\n",
    "            B: price of the bond\n",
    "            D: duration of the bond\n",
    "            C: convexity of the bond\n",
    "    '''\n",
    "    B,D,C = 0,0,0\n",
    "    for i in range(n):\n",
    "        disc_i = np.exp(-t_cash_flow[i] * y)\n",
    "        B = B + v_cash_flow[i] * disc_i\n",
    "        D = D + t_cash_flow[i] * v_cash_flow[i] *  disc_i\n",
    "        C = C + t_cash_flow[i]**2 * v_cash_flow[i] *  disc_i\n",
    "    \n",
    "    D = D / B\n",
    "    C = C / B\n",
    "    return B,D,C\n",
    "\n",
    "\n",
    "# Bond yield\n",
    "def bond_yield_Newton(B, n, t_cash_flow, v_cash_flow , tol = 10**(-6)):\n",
    "    '''\n",
    "    Implementation of pseudocode from table 5.6 of the book \n",
    "    \"A Primer for the Mathematics of Financial Engineering\"\n",
    "    \n",
    "    Inputs:\n",
    "        B : price of the bond\n",
    "        n : number of cash flows\n",
    "        t_cash_flow : cash flow dates (vector of size n)\n",
    "        v_cash_flow : cash flows (vector of size n)\n",
    "        tol : tolerance for declaring convergence of Newton's method\n",
    "    \n",
    "    Output:\n",
    "        x_new : the yield of the bond\n",
    "    '''\n",
    "    x0 = 0.1 # initial guess: 10% yield\n",
    "    x_new = x0\n",
    "    x_old = x0 - 1\n",
    "    \n",
    "    # Use numpy arrays for vectorization\n",
    "    _v_cash_flow = np.array(v_cash_flow)\n",
    "    _t_cash_flow = np.array(t_cash_flow)\n",
    "    \n",
    "    while np.abs(x_new - x_old) > tol:\n",
    "        x_old = x_new\n",
    "        print (round(x_new,6))\n",
    "        \n",
    "        numer = (_v_cash_flow * np.exp(-x_old * _t_cash_flow )).sum() - B\n",
    "        denom = (_t_cash_flow * _v_cash_flow * \n",
    "                     np.exp(-x_old * _t_cash_flow)).sum()\n",
    "        \n",
    "        x_new = x_old + numer / denom\n",
    "    return x_new\n",
    "\n",
    "# Boostrapping\n",
    "# [TODO]"
   ]
  },
  {
   "cell_type": "code",
   "execution_count": 4,
   "metadata": {},
   "outputs": [
    {
     "data": {
      "text/html": [
       "<div>\n",
       "<style scoped>\n",
       "    .dataframe tbody tr th:only-of-type {\n",
       "        vertical-align: middle;\n",
       "    }\n",
       "\n",
       "    .dataframe tbody tr th {\n",
       "        vertical-align: top;\n",
       "    }\n",
       "\n",
       "    .dataframe thead th {\n",
       "        text-align: right;\n",
       "    }\n",
       "</style>\n",
       "<table border=\"1\" class=\"dataframe\">\n",
       "  <thead>\n",
       "    <tr style=\"text-align: right;\">\n",
       "      <th></th>\n",
       "      <th>Maturity_in_months</th>\n",
       "      <th>Coupon_Rate</th>\n",
       "      <th>Price</th>\n",
       "    </tr>\n",
       "  </thead>\n",
       "  <tbody>\n",
       "    <tr>\n",
       "      <th>0</th>\n",
       "      <td>6</td>\n",
       "      <td>0</td>\n",
       "      <td>99.0</td>\n",
       "    </tr>\n",
       "    <tr>\n",
       "      <th>1</th>\n",
       "      <td>12</td>\n",
       "      <td>4</td>\n",
       "      <td>102.0</td>\n",
       "    </tr>\n",
       "    <tr>\n",
       "      <th>2</th>\n",
       "      <td>36</td>\n",
       "      <td>4</td>\n",
       "      <td>103.5</td>\n",
       "    </tr>\n",
       "    <tr>\n",
       "      <th>3</th>\n",
       "      <td>60</td>\n",
       "      <td>4</td>\n",
       "      <td>109.0</td>\n",
       "    </tr>\n",
       "  </tbody>\n",
       "</table>\n",
       "</div>"
      ],
      "text/plain": [
       "   Maturity_in_months  Coupon_Rate  Price\n",
       "0                   6            0   99.0\n",
       "1                  12            4  102.0\n",
       "2                  36            4  103.5\n",
       "3                  60            4  109.0"
      ]
     },
     "execution_count": 4,
     "metadata": {},
     "output_type": "execute_result"
    }
   ],
   "source": [
    "# Boostrapping\n",
    "\n",
    "# Inputs: Maturity, Coupon Rate and Price for a set of bonds with different maturities\n",
    "# Steps: \n",
    "# 1) Solve for the interest rate for known rates\n",
    "# 2) If there is a gap in maturities, make x as unknown and explain the rest as linear combinations of the unkonwn\n",
    "\n",
    "# book data\n",
    "bdt =     pd.DataFrame( {'Maturity_in_months' : [6, 12, 36, 60],\n",
    "                        'Coupon_Rate' : [0, 4, 4, 4],\n",
    "                        'Price' : [99, 102, 103.5, 109]},\n",
    "                     columns = ['Maturity_in_months', 'Coupon_Rate', 'Price'])\n",
    "bdt"
   ]
  },
  {
   "cell_type": "code",
   "execution_count": 5,
   "metadata": {},
   "outputs": [
    {
     "name": "stdout",
     "output_type": "stream",
     "text": [
      "Iter/Imp rate r02: 0/0.05\n",
      "Iter/Imp rate r02: 1/0.021365250637124054\n",
      "Iter/Imp rate r02: 2/0.021939697404767696\n",
      "Iter/Imp rate r02: 3/0.0219442406987971\n",
      "Iter/Imp rate r05: 0/0.05\n",
      "Iter/Imp rate r05: 1/0.0196424027358682\n",
      "Iter/Imp rate r05: 2/0.02076401606954063\n",
      "Iter/Imp rate r05: 3/0.020800721795834313\n",
      "Iter/Imp rate r05: 4/0.020801826061997195\n",
      "0.020100671707004025\n",
      "0.01960264729351291\n",
      "0.020773460675387913\n",
      "0.021944274057262916\n",
      "0.02175387157900138\n",
      "0.021563469100739835\n",
      "0.021373066622478294\n",
      "0.021182664144216757\n",
      "0.020992261665955216\n",
      "0.020801859187693676\n"
     ]
    }
   ],
   "source": [
    "# Bootstraping from book\n",
    "def get_implied_rate_r02( B,c,r_05,r_1,x0, tol = 10**(-6) ) :\n",
    "    '''\n",
    "    XXX\n",
    "    Semianual\n",
    "    '''\n",
    "    \n",
    "    r_15 = lambda x:  (r_1 + x)/2\n",
    "    r_2  = lambda x: x\n",
    "    \n",
    "    x_new = x0\n",
    "    x_old = x0-1\n",
    "    it = 0\n",
    "    while np.abs(x_new - x_old) > tol:\n",
    "        x_old = x_new\n",
    "        print ('Iter/Imp rate r02: {}/{}'.format(it,x_new))\n",
    "        it += 1\n",
    "        f =   ( c/2 * np.exp(-0.5 * r_05) + \n",
    "                c/2 * np.exp(-1 * r_1)    +\n",
    "                c/2 * np.exp(-1.5 * r_15(x_new)) +\n",
    "                (100 + c/2) * np.exp(-2 * r_2(x_new))-B)\n",
    "             \n",
    "        f_p = ( -1.5 * c/2 * np.exp(-1.5 * r_15(x_new)) +\n",
    "                -2 * (100 + c/2) * np.exp(-2 * r_2(x_new)) )\n",
    "        \n",
    "        x_new = (x_new - f/f_p)\n",
    "    return x_new\n",
    "\n",
    "\n",
    "def get_implied_rate_r05( B,c,r_05,r_1,r_15,r_2,x0, tol = 10**(-6) ) :\n",
    "    '''\n",
    "    XXX\n",
    "    Semianual\n",
    "    '''\n",
    "    # rates as a function by linear interpolation\n",
    "    r_25 = lambda x: (x + 5*r_2)/6\n",
    "    r_3  = lambda x: (x + 2*r_2)/3\n",
    "    r_35 = lambda x: (x + r_2)/2\n",
    "    r_4  = lambda x: (2*x + r_2)/3\n",
    "    r_45  = lambda x: (5*x + r_2)/6\n",
    "    r_5  = lambda x: x\n",
    "    \n",
    "    x_new = x0\n",
    "    x_old = x0-1\n",
    "    it = 0\n",
    "    while np.abs(x_new - x_old) > tol:\n",
    "        x_old = x_new\n",
    "        print ('Iter/Imp rate r05: {}/{}'.format(it,x_new))\n",
    "        it += 1\n",
    "        f =   ( c/2 * np.exp(-0.5 * r_05) + \n",
    "                c/2 * np.exp(-1 * r_1)    +\n",
    "                c/2 * np.exp(-1.5 * r_15) +\n",
    "                c/2 * np.exp(-2 * r_2) +\n",
    "                c/2 * np.exp(-2.5 * r_25(x_new)) +\n",
    "                c/2 * np.exp(-3 * r_3(x_new)) +\n",
    "                c/2 * np.exp(-3.5 * r_35(x_new)) +\n",
    "                c/2 * np.exp(-4 * r_4(x_new)) +\n",
    "                c/2 * np.exp(-4.5 * r_45(x_new)) +\n",
    "                (100 + c/2) * np.exp(-5 * r_5(x_new))-B)\n",
    "             \n",
    "        f_p = ( -2.5 * c/2 * np.exp(-2.5 * r_25(x_new)) +\n",
    "                -3 * c/2 * np.exp(-3 * r_3(x_new)) +\n",
    "                -3.5 * c/2 * np.exp(-3.5 * r_35(x_new)) +\n",
    "                -4 * c/2 * np.exp(-4 * r_4(x_new)) +\n",
    "                -4.5 * c/2 * np.exp(-4.5 * r_45(x_new)) + \n",
    "                -5 * (100 + c/2) * np.exp(-5 * r_5(x_new)) )\n",
    "               \n",
    "        x_new = (x_new - f/f_p)\n",
    "    return x_new\n",
    "\n",
    "# Replicating book\n",
    "# Find \"known\" rates\n",
    "# T = 6 months\n",
    "br_05 = (np.log(100 + 0/2)- np.log(99) )  / 0.5\n",
    "bdc_05 =   bdt.Coupon_Rate[1]/2 * np.exp(- 0.5 * br_05) #discounted coupon\n",
    "\n",
    "# T = 1 year\n",
    "br_1 =  (np.log(100 + bdt.Coupon_Rate[1]/2) - np.log(bdt.Price[1] - bdc_05))\n",
    "bdc_1 = bdt.Coupon_Rate[1]/2 * np.exp(- 1 * br_1)\n",
    "\n",
    "# T = 2 year\n",
    "br_2 = get_implied_rate_r02(bdt.Price[2], bdt.Coupon_Rate[2], br_05, br_1, 0.05 )\n",
    "bdc_2 = bdt.Coupon_Rate[2]/2 * np.exp(- 2 * br_2)\n",
    "\n",
    "# T = 1.5 year \n",
    "br_15 = (br_1 + br_2) /2 \n",
    "\n",
    "# T = 5 year\n",
    "br_5 = get_implied_rate_r05(bdt.Price[3], bdt.Coupon_Rate[3], br_05, br_1,br_15, br_2, 0.05 )\n",
    "bdc_5 = bdt.Coupon_Rate[3]/2 * np.exp(- 5 * br_5)\n",
    "\n",
    "# T = 2.5,3,3.5,4,4.5 year \n",
    "br_25 = (br_5 + 5*br_2)/6\n",
    "br_3  = (br_5 + 2*br_2)/3\n",
    "br_35 = (br_5 + br_2)/2\n",
    "br_4  = (2*br_5 + br_2)/3\n",
    "br_45 = (5*br_5 + br_2)/6\n",
    "\n",
    "\n",
    "print (br_05)\n",
    "print (br_1)\n",
    "print (br_15)\n",
    "print (br_2)\n",
    "print (br_25)\n",
    "print (br_3)\n",
    "print (br_35)\n",
    "print (br_4)\n",
    "print (br_45)\n",
    "print (br_5)"
   ]
  },
  {
   "cell_type": "code",
   "execution_count": 500,
   "metadata": {},
   "outputs": [
    {
     "data": {
      "text/html": [
       "<div>\n",
       "<style scoped>\n",
       "    .dataframe tbody tr th:only-of-type {\n",
       "        vertical-align: middle;\n",
       "    }\n",
       "\n",
       "    .dataframe tbody tr th {\n",
       "        vertical-align: top;\n",
       "    }\n",
       "\n",
       "    .dataframe thead th {\n",
       "        text-align: right;\n",
       "    }\n",
       "</style>\n",
       "<table border=\"1\" class=\"dataframe\">\n",
       "  <thead>\n",
       "    <tr style=\"text-align: right;\">\n",
       "      <th></th>\n",
       "      <th>Maturity_in_months</th>\n",
       "      <th>Coupon_Rate</th>\n",
       "      <th>Price</th>\n",
       "    </tr>\n",
       "  </thead>\n",
       "  <tbody>\n",
       "    <tr>\n",
       "      <th>0</th>\n",
       "      <td>6</td>\n",
       "      <td>0</td>\n",
       "      <td>97.5</td>\n",
       "    </tr>\n",
       "    <tr>\n",
       "      <th>1</th>\n",
       "      <td>12</td>\n",
       "      <td>5</td>\n",
       "      <td>100.0</td>\n",
       "    </tr>\n",
       "    <tr>\n",
       "      <th>2</th>\n",
       "      <td>36</td>\n",
       "      <td>5</td>\n",
       "      <td>102.0</td>\n",
       "    </tr>\n",
       "    <tr>\n",
       "      <th>3</th>\n",
       "      <td>60</td>\n",
       "      <td>6</td>\n",
       "      <td>104.0</td>\n",
       "    </tr>\n",
       "  </tbody>\n",
       "</table>\n",
       "</div>"
      ],
      "text/plain": [
       "   Maturity_in_months  Coupon_Rate  Price\n",
       "0                   6            0   97.5\n",
       "1                  12            5  100.0\n",
       "2                  36            5  102.0\n",
       "3                  60            6  104.0"
      ]
     },
     "execution_count": 500,
     "metadata": {},
     "output_type": "execute_result"
    }
   ],
   "source": [
    "## Use bootstraping to obtain a zero rate curve given the prices of the following semiannual coupon bonds\n",
    "\n",
    "#Inputs: Maturity, Coupon Rate and Price for a set of bonds with different maturities\n",
    "# exercise data\n",
    "dt =     pd.DataFrame( {'Maturity_in_months' : [6, 12, 36, 60],\n",
    "                        'Coupon_Rate' : [0, 5, 5, 6],\n",
    "                        'Price' : [97.5, 100, 102, 104]},\n",
    "                     columns = ['Maturity_in_months', 'Coupon_Rate', 'Price'])\n",
    "dt"
   ]
  },
  {
   "cell_type": "code",
   "execution_count": 501,
   "metadata": {},
   "outputs": [
    {
     "name": "stdout",
     "output_type": "stream",
     "text": [
      "0.05\n",
      "0.05\n"
     ]
    },
    {
     "data": {
      "text/plain": [
       "(0.050635615968580794,\n",
       " 0.049369600302812344,\n",
       " 0.04757826968489621,\n",
       " 0.04578693906698007,\n",
       " 0.04399560844906393,\n",
       " 0.042204277831147795,\n",
       " 0.044350710772029164,\n",
       " 0.04649714371291054,\n",
       " 0.04864357665379191,\n",
       " 0.05079000959467328)"
      ]
     },
     "execution_count": 501,
     "metadata": {},
     "output_type": "execute_result"
    }
   ],
   "source": [
    "def get_implied_rate_r03( B, c, r_05, r_1, x0 ):\n",
    "    '''\n",
    "    XXX\n",
    "    Semianual\n",
    "    '''\n",
    "\n",
    "    r_15 =  lambda x: 0.5/2*x + 1.5/2*r_1\n",
    "    r_2 =  lambda x: 1/2*x + 1/2*r_1\n",
    "    r_25 = lambda x: 1.5/2*x + 0.5/2*r_1\n",
    "    r_3 = lambda x: x\n",
    "    \n",
    "    x_new = x0\n",
    "    x_old = x0 - 1\n",
    "    it = 0\n",
    "    while np.abs(x_new - x_old) > 10**(-6):\n",
    "        x_old = x_new\n",
    "        print (x_new)\n",
    "        f = ( c/2*np.exp(-0.5 * r_05) +\n",
    "              c/2*np.exp(-1 * r_1) +\n",
    "              c/2*np.exp(-1.5 * r_15(x_new)) +\n",
    "              c/2*np.exp(-2 * r_2(x_new)) +\n",
    "              c/2*np.exp(-2.5 * r_25(x_new)) +\n",
    "              (100 + c/2)*np.exp(-3 * r_3(x_new)) - B )\n",
    "        \n",
    "        f_p = ( -1.5 * c/2 * np.exp(-1.5 * r_15(x_new)) + \n",
    "                -2 * c/2 * np.exp(-2 * r_2(x_new)) + \n",
    "                -2.5 * c/2 * np.exp(-2.5 * r_25(x_new)) +\n",
    "                -3 * (100 + c/2) * np.exp(-3 * r_3(x_new)) )\n",
    "    x_new = (x_new - f/f_p)\n",
    "    return x_new\n",
    "\n",
    "def get_implied_rate_r05( B, c, r_05, r_1, r_15, r_2, r_25, r_3, x0 ):\n",
    "    '''\n",
    "    XXX\n",
    "    Semianual\n",
    "    '''\n",
    "\n",
    "    r_35 =  lambda x: 0.5/2*x + 1.5/2*r_3\n",
    "    r_4  =  lambda x: 1/2*x + 1/2*r_3\n",
    "    r_45 =  lambda x: 1.5/2*x + 0.5/2*r_3\n",
    "    r_5  =  lambda x: x\n",
    "    \n",
    "    x_new = x0\n",
    "    x_old = x0 - 1\n",
    "    it = 0\n",
    "    while np.abs(x_new - x_old) > 10**(-6):\n",
    "        x_old = x_new\n",
    "        print (x_new)\n",
    "        f = ( c/2*np.exp(-0.5 * r_05) +\n",
    "              c/2*np.exp(-1 * r_1) +\n",
    "              c/2*np.exp(-1.5 * r_15) +\n",
    "              c/2*np.exp(-2 * r_2) +\n",
    "              c/2*np.exp(-2.5 * r_25) +\n",
    "              c/2*np.exp(-3 * r_3) +\n",
    "              c/2*np.exp(-3.5 * r_35(x_new)) +\n",
    "              c/2*np.exp(-4 * r_4(x_new)) +\n",
    "              c/2*np.exp(-4.5 * r_45(x_new)) +\n",
    "              (100 + c/2)*np.exp(-5 * r_5(x_new)) - B )\n",
    "        \n",
    "        f_p = ( -3.5 * c/2 * np.exp(-3.5 * r_35(x_new)) + \n",
    "                -4 * c/2 * np.exp(-4 * r_4(x_new)) + \n",
    "                -4.5 * c/2 * np.exp(-4.5 * r_45(x_new)) +\n",
    "                -5 * (100 + c/2) * np.exp(-5 * r_5(x_new)) )\n",
    "    x_new = (x_new - f/f_p)\n",
    "    return x_new## Use bootstraping to obtain a zero rate curve given the prices of the following semiannual coupon bonds\n",
    "\n",
    "#Inputs: Maturity, Coupon Rate and Price for a set of bonds with different maturities\n",
    "# exercise data\n",
    "dt =     pd.DataFrame( {'Maturity_in_months' : [6, 12, 36, 60],\n",
    "                        'Coupon_Rate' : [0, 5, 5, 6],\n",
    "                        'Price' : [97.5, 100, 102, 104]},\n",
    "                     columns = ['Maturity_in_months', 'Coupon_Rate', 'Price'])\n",
    "dt\n",
    "\n",
    "x0 = 0.05\n",
    "\n",
    "r_00 = 0.05 #overnight rate\n",
    "\n",
    "## t = 0.5\n",
    "B = dt.Price[0]\n",
    "c = dt.Coupon_Rate[0]\n",
    "t = dt.Maturity_in_months[0]/12\n",
    "r_05 = (np.log(100 + c/2*100) - np.log(B)) /t\n",
    "\n",
    "## t = 1\n",
    "B = dt.Price[1]\n",
    "c = dt.Coupon_Rate[1]\n",
    "t = dt.Maturity_in_months[1]/12\n",
    "r_1 = (np.log(100 + c/2) - np.log(B - c/2 * np.exp(-0.5*r_05)))\n",
    "\n",
    "## t = 3\n",
    "B = dt.Price[2]\n",
    "c = dt.Coupon_Rate[2]\n",
    "t = dt.Maturity_in_months[2]/12\n",
    "r_3 = get_implied_rate_r03(B,c,r_05,r_1,x0)\n",
    "\n",
    "# intermediate ts\n",
    "r_15 = lambda x: 0.5/2*x + 1.5/2 * r_1\n",
    "r_2 = lambda x: 1/2*x + 1/2 * r_1\n",
    "r_25 = lambda x: 1.5/2*x + 0.5/2 * r_1\n",
    "\n",
    "r_15 = r_15(r_3)\n",
    "r_2 = r_2(r_3)\n",
    "r_25 = r_25(r_3)\n",
    "\n",
    "## t = 5\n",
    "B = dt.Price[3]\n",
    "c = dt.Coupon_Rate[3]\n",
    "t = dt.Maturity_in_months[3]/12\n",
    "r_5 = get_implied_rate_r05(B,c,r_05,r_1,r_15,r_2,r_25,r_3,x0)\n",
    "\n",
    "## intermediate ts\n",
    "r_35 =  lambda x: 0.5/2*x + 1.5/2*r_3\n",
    "r_4  =  lambda x: 1/2*x + 1/2*r_3\n",
    "r_45 =  lambda x: 1.5/2*x + 0.5/2*r_3\n",
    "\n",
    "r_35 =  r_35(r_5)\n",
    "r_4 =  r_4(r_5)\n",
    "r_45 =  r_45(r_5)\n",
    "\n",
    "r_05, r_1, r_15, r_2, r_25, r_3, r_35, r_4, r_45, r_5"
   ]
  },
  {
   "cell_type": "code",
   "execution_count": 505,
   "metadata": {},
   "outputs": [
    {
     "name": "stdout",
     "output_type": "stream",
     "text": [
      "Iteration 1: x_new = 0.042204277831147795\n",
      "Iteration 2: x_new = 0.042119511617771326\n",
      "Iteration 3: x_new = 0.042117646021938286\n",
      "Iteration 4: x_new = 0.04211760473584592\n",
      "Converged after 4 iterations.\n",
      "Final result for r_3: 0.04211760473584592\n"
     ]
    }
   ],
   "source": [
    "## t = 3\n",
    "def get_implied_rate_r03(B, c, r_05, r_1, x0):\n",
    "    '''\n",
    "    XXX\n",
    "    Semianual\n",
    "    '''\n",
    "\n",
    "    r_15 = lambda x: 0.5/2*x + 1.5/2*r_1\n",
    "    r_2 = lambda x: 1/2*x + 1/2*r_1\n",
    "    r_25 = lambda x: 1.5/2*x + 0.5/2*r_1\n",
    "    r_3 = lambda x: x\n",
    "    \n",
    "    x_new = x0\n",
    "    x_old = x0 - 1\n",
    "    it = 0\n",
    "    while abs(x_new - x_old) > 10**(-6):\n",
    "        x_old = x_new\n",
    "        it += 1\n",
    "        \n",
    "        f = (c/2*np.exp(-0.5 * r_05) +\n",
    "             c/2*np.exp(-1 * r_1) +\n",
    "             c/2*np.exp(-1.5 * r_15(x_new)) +\n",
    "             c/2*np.exp(-2 * r_2(x_new)) +\n",
    "             c/2*np.exp(-2.5 * r_25(x_new)) +\n",
    "             (100 + c/2)*np.exp(-3 * r_3(x_new)) - B)\n",
    "        \n",
    "        f_p = (-1.5 * c/2 * np.exp(-1.5 * r_15(x_new)) +\n",
    "               -2 * c/2 * np.exp(-2 * r_2(x_new)) +\n",
    "               -2.5 * c/2 * np.exp(-2.5 * r_25(x_new)) +\n",
    "               -3 * (100 + c/2) * np.exp(-3 * r_3(x_new)))\n",
    "        \n",
    "        x_new = (x_new - f/f_p)\n",
    "        \n",
    "        print(f\"Iteration {it}: x_new = {x_new}\")\n",
    "    \n",
    "    print(f\"Converged after {it} iterations.\")\n",
    "    return x_new\n",
    "\n",
    "# Assuming r_05, r_1, and x0 are defined elsewhere before calling this function\n",
    "B = dt.Price[2]\n",
    "c = dt.Coupon_Rate[2]\n",
    "t = dt.Maturity_in_months[2]/12\n",
    "r_3 = get_implied_rate_r03(B, c, r_05, r_1, x0)\n",
    "print(\"Final result for r_3:\", r_3)\n"
   ]
  },
  {
   "cell_type": "markdown",
   "metadata": {},
   "source": [
    "### EXAM Boostrapping"
   ]
  },
  {
   "cell_type": "code",
   "execution_count": 8,
   "metadata": {},
   "outputs": [
    {
     "data": {
      "text/html": [
       "<div>\n",
       "<style scoped>\n",
       "    .dataframe tbody tr th:only-of-type {\n",
       "        vertical-align: middle;\n",
       "    }\n",
       "\n",
       "    .dataframe tbody tr th {\n",
       "        vertical-align: top;\n",
       "    }\n",
       "\n",
       "    .dataframe thead th {\n",
       "        text-align: right;\n",
       "    }\n",
       "</style>\n",
       "<table border=\"1\" class=\"dataframe\">\n",
       "  <thead>\n",
       "    <tr style=\"text-align: right;\">\n",
       "      <th></th>\n",
       "      <th>Maturity_in_months</th>\n",
       "      <th>Coupon_Rate</th>\n",
       "      <th>Price</th>\n",
       "    </tr>\n",
       "  </thead>\n",
       "  <tbody>\n",
       "    <tr>\n",
       "      <th>0</th>\n",
       "      <td>12</td>\n",
       "      <td>5</td>\n",
       "      <td>102</td>\n",
       "    </tr>\n",
       "    <tr>\n",
       "      <th>1</th>\n",
       "      <td>24</td>\n",
       "      <td>7</td>\n",
       "      <td>107</td>\n",
       "    </tr>\n",
       "    <tr>\n",
       "      <th>2</th>\n",
       "      <td>48</td>\n",
       "      <td>9</td>\n",
       "      <td>120</td>\n",
       "    </tr>\n",
       "  </tbody>\n",
       "</table>\n",
       "</div>"
      ],
      "text/plain": [
       "   Maturity_in_months  Coupon_Rate  Price\n",
       "0                  12            5    102\n",
       "1                  24            7    107\n",
       "2                  48            9    120"
      ]
     },
     "execution_count": 8,
     "metadata": {},
     "output_type": "execute_result"
    }
   ],
   "source": [
    "dt =     pd.DataFrame( {'Maturity_in_months' : [12, 24, 48],\n",
    "                        'Coupon_Rate' : [5, 7, 9],\n",
    "                        'Price' : [102, 107, 120]},\n",
    "                     columns = ['Maturity_in_months', 'Coupon_Rate', 'Price'])\n",
    "dt"
   ]
  },
  {
   "cell_type": "code",
   "execution_count": 9,
   "metadata": {},
   "outputs": [],
   "source": [
    "r_00 = 0.03\n",
    "def get_implied_rate_r01( B, c, r_00, x0=0.05):\n",
    "    '''\n",
    "    XXX\n",
    "    Semianual\n",
    "    '''\n",
    "    r_05 = lambda x: (r_00 + x)/2\n",
    "    r_1 = lambda x: x\n",
    "    \n",
    "    x_new = x0\n",
    "    x_old = x0 - 1\n",
    "    it = 0\n",
    "    while np.abs(x_new - x_old) > 10**(-6):\n",
    "        x_old = x_new\n",
    "        print (x_new)\n",
    "        f = ( c/2*np.exp(-0.5 * r_05(x_new)) +\n",
    "            (100 + c/2)*np.exp(-1 * r_1(x_new)) - B )\n",
    "        \n",
    "        f_p = ( -0.5 * c/2 * np.exp(-0.5 * r_05(x_new)) + \n",
    "                -1 * (100 + c/2) * np.exp(-1 * r_1(x_new)))\n",
    "    x_new = (x_new - f/f_p)\n",
    "    return x_new\n",
    "\n"
   ]
  },
  {
   "cell_type": "code",
   "execution_count": 10,
   "metadata": {},
   "outputs": [
    {
     "name": "stdout",
     "output_type": "stream",
     "text": [
      "0.05\n"
     ]
    },
    {
     "data": {
      "text/plain": [
       "(0.029625418733122695, 0.02925083746624539)"
      ]
     },
     "execution_count": 10,
     "metadata": {},
     "output_type": "execute_result"
    }
   ],
   "source": [
    "B = dt.Price[0]\n",
    "c = dt.Coupon_Rate[0]\n",
    "t = dt.Maturity_in_months[0]/12\n",
    "r_1 = get_implied_rate_r01(B,c,r_00) \n",
    "\n",
    "\n",
    "r_05 = lambda x: (r_00 + x)/2\n",
    "r_1\n",
    "r_05 = r_05(r_1)\n",
    "r_05, r_1"
   ]
  },
  {
   "cell_type": "code",
   "execution_count": 11,
   "metadata": {},
   "outputs": [],
   "source": [
    "def get_implied_rate_r02( B, c, r_05, r_1, x0=0.05 ):\n",
    "    '''\n",
    "    XXX\n",
    "    Semianual\n",
    "    '''\n",
    "\n",
    "    r_15 =  lambda x: (r_1 + x)/2\n",
    "    r_2 =  lambda x: x\n",
    "    \n",
    "    x_new = x0\n",
    "    x_old = x0 - 1\n",
    "    it = 0\n",
    "    while np.abs(x_new - x_old) > 10**(-6):\n",
    "        x_old = x_new\n",
    "        print (x_new)\n",
    "        f = ( c/2*np.exp(-0.5 * r_05) +\n",
    "              c/2*np.exp(-1 * r_1) +\n",
    "              c/2*np.exp(-1.5 * r_15(x_new)) +\n",
    "              (100 + c/2)*np.exp(-2 * r_2(x_new) - B) )\n",
    "        \n",
    "        f_p = ( -1.5 * c/2 * np.exp(-1.5 * r_15(x_new)) + \n",
    "                -2 *  (100 + c/2)  * np.exp(-2 * r_2(x_new)) )\n",
    "    x_new = (x_new - f/f_p)\n",
    "    return x_new"
   ]
  },
  {
   "cell_type": "code",
   "execution_count": 12,
   "metadata": {},
   "outputs": [
    {
     "name": "stdout",
     "output_type": "stream",
     "text": [
      "0.05\n"
     ]
    }
   ],
   "source": [
    "B = dt.Price[1]\n",
    "c = dt.Coupon_Rate[1]\n",
    "t = dt.Maturity_in_months[1]/12\n",
    "r_2 = get_implied_rate_r02(B, c, r_05, r_1)\n"
   ]
  },
  {
   "cell_type": "code",
   "execution_count": 13,
   "metadata": {},
   "outputs": [
    {
     "data": {
      "text/plain": [
       "(0.06601230035145891, 0.10277376323667245)"
      ]
     },
     "execution_count": 13,
     "metadata": {},
     "output_type": "execute_result"
    }
   ],
   "source": [
    "r_15 = (r_1+r_2)/2\n",
    "r_15,r_2"
   ]
  },
  {
   "cell_type": "code",
   "execution_count": 14,
   "metadata": {},
   "outputs": [],
   "source": [
    "def get_implied_rate_r04( B, c, r_05, r_1,r_15, r_2, x0=0.05 ):\n",
    "    '''\n",
    "    XXX\n",
    "    Semianual\n",
    "    '''\n",
    "\n",
    "    r_25 =  lambda x: (r_2/4 + 3*x/4)\n",
    "    r_3 =  lambda x: (r_2+x)/2\n",
    "    r_35 =  lambda x: (3*r_2/4 + x/4)\n",
    "    r_4 =  lambda x: x\n",
    "    \n",
    "    x_new = x0\n",
    "    x_old = x0 - 1\n",
    "    it = 0\n",
    "    while np.abs(x_new - x_old) > 10**(-6):\n",
    "        x_old = x_new\n",
    "        print (x_new)\n",
    "        f = ( c/2*np.exp(-0.5 * r_05) +\n",
    "              c/2*np.exp(-1 * r_1) +\n",
    "              c/2*np.exp(-1.5 * r_15) +\n",
    "              c/2*np.exp(-2 * r_2) +\n",
    "              c/2*np.exp(-2.5 * r_25(x_new)) +\n",
    "              c/2*np.exp(-3 * r_3(x_new)) +\n",
    "              c/2*np.exp(-3.5 * r_35(x_new)) +\n",
    "              (100 + c/2)*np.exp(-4 * r_4(x_new) - B) )\n",
    "        \n",
    "        f_p = ( -2.5 * c/2 * np.exp(-2.5 * r_25(x_new)) + \n",
    "                -3 * c/2 * np.exp(-1.5 * r_3(x_new)) + \n",
    "                -3.5 * c/2 * np.exp(-1.5 * r_35(x_new)) + \n",
    "                -4 *  (100 + c/2)  * np.exp(-2 * r_4(x_new)) )\n",
    "    x_new = (x_new - f/f_p)\n",
    "    return x_new"
   ]
  },
  {
   "cell_type": "code",
   "execution_count": 15,
   "metadata": {},
   "outputs": [
    {
     "name": "stdout",
     "output_type": "stream",
     "text": [
      "0.05\n"
     ]
    },
    {
     "data": {
      "text/plain": [
       "0.11588749567746298"
      ]
     },
     "execution_count": 15,
     "metadata": {},
     "output_type": "execute_result"
    }
   ],
   "source": [
    "B = dt.Price[2]\n",
    "c = dt.Coupon_Rate[2]\n",
    "t = dt.Maturity_in_months[2]/12\n",
    "r_4 = get_implied_rate_r04(B, c, r_05, r_1,r_15,r_2)\n",
    "r_4"
   ]
  },
  {
   "cell_type": "code",
   "execution_count": 16,
   "metadata": {},
   "outputs": [
    {
     "data": {
      "text/plain": [
       "0.11260906256726536"
      ]
     },
     "execution_count": 16,
     "metadata": {},
     "output_type": "execute_result"
    }
   ],
   "source": [
    "r_2/4 + 3/4*r_4"
   ]
  },
  {
   "cell_type": "code",
   "execution_count": 17,
   "metadata": {},
   "outputs": [
    {
     "data": {
      "text/plain": [
       "0.10933062945706772"
      ]
     },
     "execution_count": 17,
     "metadata": {},
     "output_type": "execute_result"
    }
   ],
   "source": [
    "r_2/2 + r_4/2"
   ]
  },
  {
   "cell_type": "code",
   "execution_count": 18,
   "metadata": {},
   "outputs": [
    {
     "data": {
      "text/plain": [
       "0.08035875553770197"
      ]
     },
     "execution_count": 18,
     "metadata": {},
     "output_type": "execute_result"
    }
   ],
   "source": [
    "r_2/2 + r_4/4"
   ]
  },
  {
   "cell_type": "code",
   "execution_count": 19,
   "metadata": {},
   "outputs": [
    {
     "data": {
      "text/plain": [
       "0.10605219634687009"
      ]
     },
     "execution_count": 19,
     "metadata": {},
     "output_type": "execute_result"
    }
   ],
   "source": [
    "r_2*3/4 + 1/4*r_4"
   ]
  },
  {
   "cell_type": "markdown",
   "metadata": {},
   "source": [
    "[Back to Index](#Index)"
   ]
  },
  {
   "cell_type": "markdown",
   "metadata": {},
   "source": [
    "## Options"
   ]
  },
  {
   "cell_type": "code",
   "execution_count": 119,
   "metadata": {},
   "outputs": [],
   "source": [
    "# Normal CDF\n",
    "def cum_dist_normal_approx(t):\n",
    "    ''' \n",
    "    Input:\n",
    "        t : real number\n",
    "    Output:\n",
    "        nn: \n",
    "    '''\n",
    "    z = np.abs(t)\n",
    "    y = 1/(1+0.2316419*z)\n",
    "    a1 = 0.319381530\n",
    "    a2 = -0.356563782\n",
    "    a3 = 1.781477937\n",
    "    a4 = -1.821255978\n",
    "    a5 = 1.330274429\n",
    "    \n",
    "    m = 1 - np.exp(-t**2/2) * (a1 * y + a2  * y**2 + a3 * y**3 + a4 * y**4 + a5 * y**5) / np.sqrt(2*np.pi)\n",
    "    nn = m if t>0 else 1-m\n",
    "    return nn\n",
    "\n",
    "def N(t,n,tol):\n",
    "    def e_exp(x):\n",
    "        return np.exp(- x**2/2)\n",
    "    def I_numerical_simp_f_e_exp(n):\n",
    "        return simpson_rule(a = 0, b = t, n = n, f_int_x= e_exp)\n",
    "    int_e_exp, int_results  = integral_approx(tol, I_numerical_simp_f_e_exp)\n",
    "    return 0.5 + 1/ np.sqrt( 2 * np.pi) * int_e_exp, int_results\n",
    "\n",
    "# Black Scholes European\n",
    "def european_bsm_value( S0, K, T, r, sigma, q, option_type):\n",
    "    ''' Valuation of European call option in BSM model.\n",
    "    Analytical formula.\n",
    "    \n",
    "    Parameters\n",
    "    ==========\n",
    "    option_type :  string\n",
    "        call/put\n",
    "    S0 : float\n",
    "        initial stock/index level\n",
    "    K : float\n",
    "        strike price\n",
    "    T : float\n",
    "        maturity date (in year fractions)\n",
    "    r : float\n",
    "        constant risk-free short rate\n",
    "    sigma : float\n",
    "        volatility factor in diffusion term\n",
    "    \n",
    "    Returns\n",
    "    =======\n",
    "    value : float\n",
    "        present value of the European call option\n",
    "    '''\n",
    "    from math import log, sqrt, exp\n",
    "    from scipy import stats\n",
    "    \n",
    "    if option_type not in ['call','put']:\n",
    "        print  ('Invalid option_type, input should be \"call\" or \"put\"}')\n",
    "        return None\n",
    "    \n",
    "    S0 = float(S0)\n",
    "    d1 = (np.log(S0/K) + (r - q + sigma**2/2)*T) / (sigma*np.sqrt(T))\n",
    "    d2 = d1 - sigma * np.sqrt(T)\n",
    "    C = (S0 * exp(-q * T) * norm.cdf(d1)\n",
    "         - K * exp(-r * T) * norm.cdf(d2))\n",
    "    P = (K * exp(-r * T) * norm.cdf(-d2)  \n",
    "         - S0 * exp(-q * T) * norm.cdf(-d1))\n",
    "    if option_type == 'call':\n",
    "        return C\n",
    "    if option_type == 'put':\n",
    "        return P\n",
    "\n",
    "# Alternative implementation using Simpson\n",
    "def european_bsm_Simpson_value( S0, K, T, r, sigma, option_type = 'call',q = 0 ):\n",
    "    ''' Valuation of European call option in BSM model.\n",
    "    Analytical formula.\n",
    "    \n",
    "    Parameters\n",
    "    ==========\n",
    "    option_type :  string\n",
    "        call/put\n",
    "    S0 : float\n",
    "        initial stock/index level\n",
    "    K : float\n",
    "        strike price\n",
    "    T : float\n",
    "        maturity date (in year fractions)\n",
    "    r : float\n",
    "        constant risk-free short rate\n",
    "    sigma : float\n",
    "        volatility factor in diffusion term\n",
    "    \n",
    "    Returns\n",
    "    =======\n",
    "    value : float\n",
    "        present value of the European call option\n",
    "    '''\n",
    "    from math import log, sqrt, exp\n",
    "    from scipy import stats\n",
    "    \n",
    "    if option_type not in ['call','put']:\n",
    "        print  ('Invalid option_type, input should be \"call\" or \"put\"}')\n",
    "        return None\n",
    "    \n",
    "    S0 = float(S0)\n",
    "    d1 = (log(S0) - log(K) + (r - q + 0.5 * sigma ** 2) * T) / (sigma * sqrt(T))\n",
    "    d2 = d1 - sigma * sqrt(T)\n",
    "    C = (S0 * exp(-q * T) * N(t = d1, n = 4, tol = 10**(-12))[0]\n",
    "         - K * exp(-r * T) * N(t = d2, n = 4, tol = 10**(-12))[0])\n",
    "    P = (K * exp(-r * T) * N(t = -d2, n = 4, tol = 10**(-12))[0]  \n",
    "         - S0 * exp(-q * T) * N(t = -d1, n = 4, tol = 10**(-12))[0])\n",
    "    if option_type == 'call':\n",
    "        return C\n",
    "    if option_type == 'put':\n",
    "        return P\n",
    "    \n",
    "def european_call_bsm_approx(S0, K, T, r, sigma,q = 0 ):\n",
    "    return sigma * S0 * np.sqrt(T/(2*np.pi))  * (1- (r+q)*T/2) + (r-q)*T*S/2\n",
    "    \n",
    "# Implied Volatility\n",
    "def implied_vol_Newton( C, S, K, T, q, r, tol, x0):\n",
    "    '''\n",
    "    Inputs \n",
    "        C : price of the call option\n",
    "        S : spot price of the underlying asset\n",
    "        K : strike price of the option\n",
    "        T : maturity of the option\n",
    "        q : dividend yield of the uderlying asset\n",
    "        r : risk-free constant rate\n",
    "        tol : tolerance for declaring convergence of Newton's method\n",
    "        x0: initial guess\n",
    "        f_BS : Black-Scholes value fo a call given volatility\n",
    "        vega_BS : vega of the call given volatility\n",
    "        \n",
    "    \n",
    "    Output: implied volatility\n",
    "    '''\n",
    "    x_new = x0\n",
    "    x_old = x0-1\n",
    "    it = 0\n",
    "    while np.abs(x_new - x_old) > tol:\n",
    "        x_old = x_new\n",
    "        print (x_new)\n",
    "        x_new = (x_new - (european_bsm_value( S, K, T, r, x_new, option_type = 'call',q = q ) - C) \n",
    "                 / bsm_vega(S,K,T,r,q,x_new))\n",
    "    return x_new\n",
    "\n",
    "# Implied Strike\n",
    "from scipy.stats import norm\n",
    "\n",
    "def DeltaBSCall(S, K, T, q, r, sigma):\n",
    "    d1 = (np.log(S/K) + (r - q + sigma**2/2)*T) / (sigma*np.sqrt(T))\n",
    "    return np.exp(-(q*T)) * norm.cdf(d1)\n",
    "\n",
    "def DeltaDerivK(S, K, T, q, r, sigma):\n",
    "    d1 = (np.log(S/K) + (r - q + sigma**2/2)*T) / (sigma*np.sqrt(T))\n",
    "    num = - np.exp(-(q*T + d1**2/2) )\n",
    "    denom = K * sigma * np.sqrt(2 * np.pi * T)\n",
    "    return num / denom\n",
    "\n",
    "def implied_strike_Newton(S, T, q, r, sigma, Delta, tol, x0):\n",
    "    '''\n",
    "    Inputs:\n",
    "        S : spot price of the underlying asset\n",
    "        T : time to expiration\n",
    "        q : dividend yield of the underlying security\n",
    "        r : risk-free constant rate\n",
    "        sigma : volatility\n",
    "        Delta : required delta\n",
    "        tol : tolerance for declaring convergence of Newton's method\n",
    "        x0 : initial guess\n",
    "    '''\n",
    "    \n",
    "    x_new = x0\n",
    "    x_old = x0 - 10\n",
    "    while np.abs( x_new - x_old) > tol:\n",
    "        x_old = x_new\n",
    "        print (x_new)\n",
    "        f = DeltaBSCall(S, x_new, T, q, r, sigma) - Delta\n",
    "        f_p = DeltaDerivK(S, x_new, T, q, r, sigma)\n",
    "        x_new = (x_new -  f/f_p)\n",
    "    return x_new"
   ]
  },
  {
   "cell_type": "code",
   "execution_count": 499,
   "metadata": {},
   "outputs": [
    {
     "name": "stdout",
     "output_type": "stream",
     "text": [
      "30\n",
      "30.437314816939534\n",
      "30.439064456185854\n"
     ]
    },
    {
     "data": {
      "text/plain": [
       "30.439064505336926"
      ]
     },
     "execution_count": 499,
     "metadata": {},
     "output_type": "execute_result"
    }
   ],
   "source": [
    "implied_strike_Newton(S=30, T=3/12, q=0.01, r=0.025, sigma=0.3, Delta=0.5, tol=10**(-6), x0=30)"
   ]
  },
  {
   "cell_type": "markdown",
   "metadata": {},
   "source": [
    "[Back to Index](#Index)"
   ]
  },
  {
   "cell_type": "markdown",
   "metadata": {},
   "source": [
    "## Numerical Nonlinear Equations"
   ]
  },
  {
   "cell_type": "code",
   "execution_count": 21,
   "metadata": {},
   "outputs": [
    {
     "name": "stdout",
     "output_type": "stream",
     "text": [
      "1.3297462463378906\n"
     ]
    }
   ],
   "source": [
    "def fn(x):\n",
    "    return x**3 + 5*x - 9\n",
    "def bisection( eq, segment, app = 0.3 ):\n",
    "    a, b = segment['a'], segment['b']\n",
    "    Fa, Fb = eq(a), eq(b)\n",
    "    if Fa * Fb > 0:\n",
    "        raise Exception('No change of sign - bisection not possible')   \n",
    "    while( b - a > app ): \n",
    "        x = ( a + b ) / 2.0\n",
    "        f = eq(x)\n",
    "        if f * Fa > 0: a = x\n",
    "        else: b = x  \n",
    "    return x\n",
    " #test it\n",
    "print (bisection(fn,{'a':0,'b':5}, 0.00003)) # => 1.32974624634"
   ]
  },
  {
   "cell_type": "code",
   "execution_count": 7,
   "metadata": {},
   "outputs": [],
   "source": [
    "# Bisection Method\n",
    "def bisec_method( a, b, f, tol_int = 10**(-6), tol_approx = 10**(-9)):\n",
    "    '''\n",
    "    Input\n",
    "        a : left endpoint of the initial interval\n",
    "        b : right endpoint of the initial interval\n",
    "        f : given function\n",
    "        tol_int : largest admissible size of active interval when solution is found \n",
    "        tol_approx : largest admissible value of |f(x)| when solution is found\n",
    "        \n",
    "    Output: approximate solution for f(x) = 0\n",
    "    '''\n",
    "    x_L = a\n",
    "    x_R  = b\n",
    "    \n",
    "    if f(x_L) * f(x_R) > 0:\n",
    "        raise Exception('No change of sign - bisection not possible')   \n",
    "    \n",
    "    while (max( np.abs(f(x_L)), np.abs(f(x_R))) > tol_approx) and ((x_R - x_L) > tol_int):\n",
    "        x_M = (x_L + x_R) / 2\n",
    "        print (x_L , x_R)\n",
    "        print (max( np.abs(f(x_L)), np.abs(f(x_R))))\n",
    "        if f(x_L * f(x_M)) < 0: \n",
    "            x_R = x_M # active interval [x_L, x_M]\n",
    "        else:\n",
    "            x_L = x_M\n",
    "    return x_M\n",
    "\n",
    "# Secant Method\n",
    "def secant_method(xm1, x0, f, tol_approx = 10**(-6), tol_consec = 10**(-9) ):\n",
    "    '''\n",
    "    Input:\n",
    "        xm1 and x0 : intial guesses\n",
    "        f : given function\n",
    "        tol_approx : largest admissible value of |f(x)| when solution is found\n",
    "        tol_consec : largest admissible distance between  two consecutive approximations when solution is found\n",
    "    Output:\n",
    "        x_new :  approximate solution for f(x) = 0\n",
    "\n",
    "    '''\n",
    "    x_new  =  x0\n",
    "    x_old  =  xm1\n",
    "    \n",
    "    while (np.abs(f(x_new)) > tol_approx) or (np.abs(x_new - x_old) > tol_consec):\n",
    "        x_oldest = x_old\n",
    "        x_old = x_new\n",
    "        x_new = x_old - f(x_old) * (x_old - x_oldest) / (f(x_old) - f(x_oldest))\n",
    "    \n",
    "    return x_new\n",
    "\n",
    "# Newton's Method\n",
    "def newtons_method(f, f_deriv, x0, tol_approx = 10**(-6), tol_consec = 10**(-9), max_wait_secs = 10):\n",
    "    '''\n",
    "    Input:\n",
    "        x0 : intial guesses\n",
    "        f : given function\n",
    "        f_deriv : derivative function of f\n",
    "        tol_approx : largest admissible value of |f(x)| when solution is found\n",
    "        tol_consec : largest admissible distance between two consecutive approximations when solution is found\n",
    "    Output:\n",
    "        x_new :  approximate solution for f(x) = 0\n",
    "    '''\n",
    "    import datetime\n",
    "    start = datetime.datetime.now()\n",
    "    \n",
    "    x_new = x0\n",
    "    x_old = x0-1\n",
    "    \n",
    "    while (np.abs(f(x_new)) > tol_approx) or (np.abs(x_new - x_old) > tol_consec):\n",
    "        x_old = x_new\n",
    "        x_new = x_old - f(x_old)/f_deriv(x_old)\n",
    "        \n",
    "        \n",
    "        stop = datetime.datetime.now()\n",
    "        elapsed = stop - start\n",
    "        if elapsed > datetime.timedelta(seconds = max_wait_secs):\n",
    "            break\n",
    "    return x_new"
   ]
  },
  {
   "cell_type": "markdown",
   "metadata": {},
   "source": [
    "[Back to Index](#Index)"
   ]
  },
  {
   "cell_type": "markdown",
   "metadata": {},
   "source": [
    "## Examples"
   ]
  },
  {
   "cell_type": "markdown",
   "metadata": {},
   "source": [
    "#### Numerical integration"
   ]
  },
  {
   "cell_type": "code",
   "execution_count": 152,
   "metadata": {},
   "outputs": [
    {
     "data": {
      "text/plain": [
       "(0.8827889485397279, 0.8806186341245393, 0.8820655104013316)"
      ]
     },
     "execution_count": 152,
     "metadata": {},
     "output_type": "execute_result"
    }
   ],
   "source": [
    "_f = lambda x: np.exp(-x**2)\n",
    "a,b,n = 0, 2, 4\n",
    "midpoint_rule(a,b,n,_f), trapezoidal_rule(a,b,n,_f), simpson_rule(a,b,n,_f)"
   ]
  },
  {
   "cell_type": "code",
   "execution_count": 153,
   "metadata": {},
   "outputs": [
    {
     "name": "stdout",
     "output_type": "stream",
     "text": [
      "0.8806186341245393\n"
     ]
    }
   ],
   "source": [
    "trap_n = partial(trapezoidal_rule,a=0,b=2,f_int_x = _f)\n",
    "print(trap_n(n=n))"
   ]
  },
  {
   "cell_type": "code",
   "execution_count": 154,
   "metadata": {},
   "outputs": [
    {
     "name": "stdout",
     "output_type": "stream",
     "text": [
      "0.8820655104013316\n"
     ]
    }
   ],
   "source": [
    "simp_n = partial(simpson_rule,a=0,b=2,f_int_x = _f)\n",
    "print(simp_n(n=n))"
   ]
  },
  {
   "cell_type": "code",
   "execution_count": 155,
   "metadata": {},
   "outputs": [
    {
     "data": {
      "text/plain": [
       "(0.8820813868806548, [(16, 0.8820813286463565), (32, 0.8820813868806548)])"
      ]
     },
     "execution_count": 155,
     "metadata": {},
     "output_type": "execute_result"
    }
   ],
   "source": [
    "integral_approx(10**(-7), simp_n)"
   ]
  },
  {
   "cell_type": "markdown",
   "metadata": {},
   "source": [
    "#### Bonds"
   ]
  },
  {
   "cell_type": "code",
   "execution_count": 440,
   "metadata": {},
   "outputs": [
    {
     "data": {
      "text/plain": [
       "108.81262593572077"
      ]
     },
     "execution_count": 440,
     "metadata": {},
     "output_type": "execute_result"
    }
   ],
   "source": [
    "C = 0.08\n",
    "y = 0.09\n",
    "t_cash_flow = [3/12, 6/12, 9/12, 12/12, 15/12, 18/12, 21/12, 24/12]\n",
    "n = len(t_cash_flow)\n",
    "v_cash_flow = get_value_cash_flows(n, C/4)\n",
    "\n",
    "# Bond price given zero rate curve\n",
    "def risk_zero_curve(t):\n",
    "    return 0.015 + t/(100+np.sqrt(1+t**2))\n",
    "\n",
    "bond_price(t_cash_flow, v_cash_flow)"
   ]
  },
  {
   "cell_type": "code",
   "execution_count": 28,
   "metadata": {},
   "outputs": [
    {
     "name": "stdout",
     "output_type": "stream",
     "text": [
      "0.1\n",
      "0.029658\n",
      "0.034059\n",
      "0.034078\n"
     ]
    },
    {
     "data": {
      "text/plain": [
       "0.03407793858182103"
      ]
     },
     "execution_count": 28,
     "metadata": {},
     "output_type": "execute_result"
    }
   ],
   "source": [
    "# Yield given price and cash flows \n",
    "yld = bond_yield_Newton(bond_price(t_cash_flow,v_cash_flow),\n",
    "                  n, t_cash_flow, v_cash_flow , tol = 10**(-6))\n",
    "yld"
   ]
  },
  {
   "cell_type": "code",
   "execution_count": 156,
   "metadata": {},
   "outputs": [
    {
     "name": "stdout",
     "output_type": "stream",
     "text": [
      "Yield: 0.03408\n",
      "Modified Duration: 0.62234\n",
      "Convexity: 0.46542\n"
     ]
    }
   ],
   "source": [
    "# Price, Duration and Convexity of bond given yield\n",
    "_, mod_dur, convxty  = price_duration_convexity(n,t_cash_flow,v_cash_flow, yld)\n",
    "print ('Yield: {}'.format(round(yld,5)))\n",
    "print ('Modified Duration: {}'.format(round(mod_dur,5)))\n",
    "print ('Convexity: {}'.format(round(convxty,5)))"
   ]
  },
  {
   "cell_type": "code",
   "execution_count": 157,
   "metadata": {},
   "outputs": [
    {
     "name": "stdout",
     "output_type": "stream",
     "text": [
      "Bond Price: 7.565\n",
      "Bond Duration: 0.618\n",
      "Bond Convexity: 0.46\n"
     ]
    }
   ],
   "source": [
    "B, D, convexity = price_duration_convexity(n,t_cash_flow,v_cash_flow,y)\n",
    "print ('Bond Price: {}'.format(round(B,3)))\n",
    "print ('Bond Duration: {}'.format(round(D,3)))\n",
    "print ('Bond Convexity: {}'.format(round(convexity,3)))"
   ]
  },
  {
   "cell_type": "markdown",
   "metadata": {},
   "source": [
    "#### Options"
   ]
  },
  {
   "cell_type": "code",
   "execution_count": 32,
   "metadata": {
    "scrolled": true
   },
   "outputs": [
    {
     "name": "stdout",
     "output_type": "stream",
     "text": [
      "30\n",
      "30.437314816939534\n",
      "30.439064456185854\n"
     ]
    },
    {
     "data": {
      "text/plain": [
       "30.439064505336926"
      ]
     },
     "execution_count": 32,
     "metadata": {},
     "output_type": "execute_result"
    }
   ],
   "source": [
    "#Example: find the strike at which the Delta of a 3 months call on this asset is 0.5. Tol = 10^-6\n",
    "implied_strike_Newton(S=30, T=3/12, q=0.01, r=0.025, sigma=0.3, Delta = 0.5, tol=10**(-6), x0 = 30)"
   ]
  },
  {
   "cell_type": "code",
   "execution_count": 253,
   "metadata": {},
   "outputs": [
    {
     "name": "stdout",
     "output_type": "stream",
     "text": [
      "1.3323519471935583\n",
      "1.332351947193132\n"
     ]
    }
   ],
   "source": [
    "print (european_bsm_value(40.0, 40.0, 0.25, 0.05, 0.2, option_type = 'call',q = 0.1 ))\n",
    "print (european_bsm_Simpson_value(40.0, 40.0, 0.25, 0.05, 0.2, option_type = 'call',q = 0.1 ))"
   ]
  },
  {
   "cell_type": "markdown",
   "metadata": {},
   "source": [
    "#### Numerical Nonlinear Equations"
   ]
  },
  {
   "cell_type": "code",
   "execution_count": 37,
   "metadata": {},
   "outputs": [
    {
     "data": {
      "text/plain": [
       "(-2.3166247903554, 4.3166247903554)"
      ]
     },
     "execution_count": 37,
     "metadata": {},
     "output_type": "execute_result"
    },
    {
     "data": {
      "image/png": "[encoded data removed]",
      "text/plain": [
       "<Figure size 640x480 with 1 Axes>"
      ]
     },
     "metadata": {},
     "output_type": "display_data"
    }
   ],
   "source": [
    "# Compute solution of f(x) = 0 by secant's Method \n",
    "_f = lambda x: x**2 - 2*x -10\n",
    "_f_deriv = lambda x: 2*x + 2\n",
    "_xs = np.linspace(-10,10)\n",
    "x_sol0 = secant_method(-5,1,_f)\n",
    "x_sol1 = secant_method(2,1,_f)\n",
    "y_sol0, y_sol1 = 0,0\n",
    "\n",
    "plt.plot(_xs, [_f(x) for x in _xs])\n",
    "plt.plot(x_sol0, y_sol0, x_sol1, y_sol1, marker = 'o')\n",
    "\n",
    "x_sol0, x_sol1"
   ]
  },
  {
   "cell_type": "code",
   "execution_count": 38,
   "metadata": {},
   "outputs": [
    {
     "name": "stdout",
     "output_type": "stream",
     "text": [
      "-2.316624402999878\n",
      "4.316624641418457\n"
     ]
    }
   ],
   "source": [
    "print (bisection(_f,{'a':-5,'b':1}, app=10**(-6)))\n",
    "print (bisection(_f,{'a':1,'b':5}, app=10**(-6)))"
   ]
  },
  {
   "cell_type": "markdown",
   "metadata": {},
   "source": [
    "[Back to Index](#Index)"
   ]
  },
  {
   "cell_type": "markdown",
   "metadata": {},
   "source": [
    "## Previous Exams"
   ]
  },
  {
   "cell_type": "markdown",
   "metadata": {},
   "source": [
    "### Fall 2016"
   ]
  },
  {
   "cell_type": "markdown",
   "metadata": {},
   "source": [
    "### 1. Implied Volatility"
   ]
  },
  {
   "cell_type": "code",
   "execution_count": 62,
   "metadata": {},
   "outputs": [
    {
     "name": "stdout",
     "output_type": "stream",
     "text": [
      "0.5\n",
      "0.39691563052053713\n",
      "0.39704862856860385\n",
      "0.39704862873147384\n"
     ]
    },
    {
     "data": {
      "text/plain": [
       "0.39704862873147356"
      ]
     },
     "execution_count": 62,
     "metadata": {},
     "output_type": "execute_result"
    }
   ],
   "source": [
    "T = 3/12\n",
    "S = 30\n",
    "K = 30\n",
    "q = 0.02\n",
    "C = 2.5\n",
    "r = 0.06\n",
    "implied_vol_Newton(C, S, K, T, q, r, tol, 0.5)"
   ]
  },
  {
   "cell_type": "code",
   "execution_count": 61,
   "metadata": {},
   "outputs": [
    {
     "name": "stdout",
     "output_type": "stream",
     "text": [
      "0.25\n",
      "0.7487176315217889\n",
      "0.7273082814081175\n",
      "0.7273301503875844\n"
     ]
    },
    {
     "data": {
      "text/plain": [
       "0.7273301504094644"
      ]
     },
     "execution_count": 61,
     "metadata": {},
     "output_type": "execute_result"
    }
   ],
   "source": [
    "C = 10\n",
    "S = 50\n",
    "K = 55\n",
    "T = 8/12\n",
    "q = 0.008\n",
    "r = 0.02\n",
    "tol = 10**(-10)\n",
    "x0 = 0.25\n",
    "\n",
    "implied_vol_Newton( C, S, K, T, q, r, tol, x0)"
   ]
  },
  {
   "cell_type": "code",
   "execution_count": 59,
   "metadata": {},
   "outputs": [
    {
     "name": "stdout",
     "output_type": "stream",
     "text": [
      "0.25\n",
      "0.7638523649833195\n",
      "0.7525784017840881\n",
      "0.7525853731785372\n"
     ]
    },
    {
     "data": {
      "text/plain": [
       "0.75259"
      ]
     },
     "execution_count": 59,
     "metadata": {},
     "output_type": "execute_result"
    }
   ],
   "source": [
    "# EXAM\n",
    "C = 15\n",
    "S = 70\n",
    "K = 75\n",
    "T = 8/12\n",
    "q = 0.007\n",
    "r = 0.005\n",
    "tol = 10**(-9)\n",
    "x0 = 0.25\n",
    "\n",
    "round(implied_vol_Newton( C, S, K, T, q, r, tol, x0),5)"
   ]
  },
  {
   "cell_type": "code",
   "execution_count": 43,
   "metadata": {},
   "outputs": [
    {
     "name": "stdout",
     "output_type": "stream",
     "text": [
      "0.76385\n",
      "0.75258\n",
      "0.75259\n"
     ]
    }
   ],
   "source": [
    "print (round(0.763852289133,5))\n",
    "print (round(0.752578579712,5))\n",
    "print (round(0.752585540546,5))"
   ]
  },
  {
   "cell_type": "markdown",
   "metadata": {},
   "source": [
    "### 2. Boostrapping"
   ]
  },
  {
   "cell_type": "markdown",
   "metadata": {},
   "source": [
    "TODO"
   ]
  },
  {
   "cell_type": "code",
   "execution_count": 44,
   "metadata": {},
   "outputs": [
    {
     "data": {
      "text/html": [
       "<div>\n",
       "<style scoped>\n",
       "    .dataframe tbody tr th:only-of-type {\n",
       "        vertical-align: middle;\n",
       "    }\n",
       "\n",
       "    .dataframe tbody tr th {\n",
       "        vertical-align: top;\n",
       "    }\n",
       "\n",
       "    .dataframe thead th {\n",
       "        text-align: right;\n",
       "    }\n",
       "</style>\n",
       "<table border=\"1\" class=\"dataframe\">\n",
       "  <thead>\n",
       "    <tr style=\"text-align: right;\">\n",
       "      <th></th>\n",
       "      <th>Maturity_in_months</th>\n",
       "      <th>Coupon_Rate</th>\n",
       "      <th>Price</th>\n",
       "    </tr>\n",
       "  </thead>\n",
       "  <tbody>\n",
       "    <tr>\n",
       "      <th>0</th>\n",
       "      <td>12</td>\n",
       "      <td>5</td>\n",
       "      <td>104</td>\n",
       "    </tr>\n",
       "    <tr>\n",
       "      <th>1</th>\n",
       "      <td>24</td>\n",
       "      <td>0</td>\n",
       "      <td>96</td>\n",
       "    </tr>\n",
       "    <tr>\n",
       "      <th>2</th>\n",
       "      <td>48</td>\n",
       "      <td>9</td>\n",
       "      <td>115</td>\n",
       "    </tr>\n",
       "  </tbody>\n",
       "</table>\n",
       "</div>"
      ],
      "text/plain": [
       "   Maturity_in_months  Coupon_Rate  Price\n",
       "0                  12            5    104\n",
       "1                  24            0     96\n",
       "2                  48            9    115"
      ]
     },
     "execution_count": 44,
     "metadata": {},
     "output_type": "execute_result"
    }
   ],
   "source": [
    "edt =     pd.DataFrame( {'Maturity_in_months' : [12, 24, 48],\n",
    "                        'Coupon_Rate' : [5, 0, 9],\n",
    "                        'Price' : [104, 96, 115]},\n",
    "                     columns = ['Maturity_in_months', 'Coupon_Rate', 'Price'])\n",
    "edt"
   ]
  },
  {
   "cell_type": "code",
   "execution_count": 45,
   "metadata": {},
   "outputs": [],
   "source": [
    "overnight = 0.002"
   ]
  },
  {
   "cell_type": "code",
   "execution_count": null,
   "metadata": {
    "collapsed": true
   },
   "outputs": [],
   "source": []
  },
  {
   "cell_type": "markdown",
   "metadata": {},
   "source": [
    "### 3. i Cash flows and discount factors"
   ]
  },
  {
   "cell_type": "code",
   "execution_count": 435,
   "metadata": {},
   "outputs": [],
   "source": [
    "def risk_zero_curve(t):\n",
    "    return 0.02 +  (2 + 5*t**2)/(45+550*t**2)\n",
    "\n",
    "def disc(t):\n",
    "    return np.exp(- risk_zero_curve(t)*t)"
   ]
  },
  {
   "cell_type": "code",
   "execution_count": 436,
   "metadata": {},
   "outputs": [],
   "source": [
    "#semianual\n",
    "c = 0.08\n",
    "t_cash_flow = [3/12, 9/12, 15/12, 21/12, 27/12]\n",
    "v_cash_flow = get_value_cash_flows(5,c/2) #because semiannual\n",
    "discs = [disc(t) for t in t_cash_flow]\n",
    "n = len(t_cash_flow)"
   ]
  },
  {
   "cell_type": "code",
   "execution_count": 437,
   "metadata": {},
   "outputs": [
    {
     "name": "stdout",
     "output_type": "stream",
     "text": [
      "[0.25, 0.75, 1.25, 1.75, 2.25]\n",
      "[4.0, 4.0, 4.0, 4.0, 104.0]\n",
      "[0.9877916692348471, 0.9751293158040495, 0.9621715255786956, 0.9488363180275128, 0.9354573902171761]\n"
     ]
    }
   ],
   "source": [
    "print (t_cash_flow)\n",
    "print (v_cash_flow)\n",
    "print (discs)"
   ]
  },
  {
   "cell_type": "markdown",
   "metadata": {},
   "source": [
    "### 3.ii Yield  "
   ]
  },
  {
   "cell_type": "code",
   "execution_count": 50,
   "metadata": {
    "scrolled": true
   },
   "outputs": [
    {
     "data": {
      "text/plain": [
       "120"
      ]
     },
     "execution_count": 50,
     "metadata": {},
     "output_type": "execute_result"
    }
   ],
   "source": [
    "B"
   ]
  },
  {
   "cell_type": "code",
   "execution_count": 51,
   "metadata": {},
   "outputs": [
    {
     "name": "stdout",
     "output_type": "stream",
     "text": [
      "0.1\n",
      "0.024153\n",
      "0.029784\n",
      "0.029819\n"
     ]
    },
    {
     "data": {
      "text/plain": [
       "0.029819399122059262"
      ]
     },
     "execution_count": 51,
     "metadata": {},
     "output_type": "execute_result"
    }
   ],
   "source": [
    "B = bond_price(t_cash_flow, v_cash_flow)  \n",
    "y = bond_yield_Newton(B, n, t_cash_flow, v_cash_flow , tol = 10**(-5))\n",
    "y"
   ]
  },
  {
   "cell_type": "markdown",
   "metadata": {},
   "source": [
    "### 3.iii Modified duration, dollar duration, DV01, convexity and dollar convexity "
   ]
  },
  {
   "cell_type": "code",
   "execution_count": 159,
   "metadata": {},
   "outputs": [],
   "source": [
    "B,D, convexity = price_duration_convexity(n,t_cash_flow,v_cash_flow, y)"
   ]
  },
  {
   "cell_type": "code",
   "execution_count": 160,
   "metadata": {},
   "outputs": [
    {
     "data": {
      "text/plain": [
       "(7.564815, 0.61797, 0.459978)"
      ]
     },
     "execution_count": 160,
     "metadata": {},
     "output_type": "execute_result"
    }
   ],
   "source": [
    "round(B,6),round(D,6),round(convexity,6)"
   ]
  },
  {
   "cell_type": "code",
   "execution_count": 544,
   "metadata": {},
   "outputs": [
    {
     "data": {
      "text/plain": [
       "234.202548"
      ]
     },
     "execution_count": 544,
     "metadata": {},
     "output_type": "execute_result"
    }
   ],
   "source": [
    "round(B*D,6) # dollar duration"
   ]
  },
  {
   "cell_type": "code",
   "execution_count": 545,
   "metadata": {},
   "outputs": [
    {
     "data": {
      "text/plain": [
       "512.43101063276379"
      ]
     },
     "execution_count": 545,
     "metadata": {},
     "output_type": "execute_result"
    }
   ],
   "source": [
    "B*convexity #dollar convexity"
   ]
  },
  {
   "cell_type": "code",
   "execution_count": 546,
   "metadata": {},
   "outputs": [
    {
     "data": {
      "text/plain": [
       "0.023420254767134382"
      ]
     },
     "execution_count": 546,
     "metadata": {},
     "output_type": "execute_result"
    }
   ],
   "source": [
    "B*D/10000"
   ]
  },
  {
   "cell_type": "code",
   "execution_count": null,
   "metadata": {
    "collapsed": true
   },
   "outputs": [],
   "source": []
  },
  {
   "cell_type": "markdown",
   "metadata": {},
   "source": [
    "### 3.iv Simpson's Rule for discount factors"
   ]
  },
  {
   "cell_type": "code",
   "execution_count": null,
   "metadata": {
    "collapsed": true
   },
   "outputs": [],
   "source": []
  },
  {
   "cell_type": "markdown",
   "metadata": {},
   "source": [
    "# Miscelanea"
   ]
  },
  {
   "cell_type": "code",
   "execution_count": 55,
   "metadata": {},
   "outputs": [
    {
     "name": "stdout",
     "output_type": "stream",
     "text": [
      "Solutions:\n",
      " [ -50. -450.   25.]\n"
     ]
    }
   ],
   "source": [
    "# Define a matrix with x1, x2, x3 and \n",
    "A = np.array([[1, 0.3, -0.6],\n",
    "              [0, 0.15, 0.3],\n",
    "              [0, 0.12, 0.16]]) \n",
    "\n",
    "#define matrix B with the require hedging portfolio Delta, Gamma and Vega\n",
    "B = np.array([-200, -60, -50]) \n",
    "\n",
    "# linalg.solve is the function of NumPy to solve a system of linear scalar equations\n",
    "print (\"Solutions:\\n\",np.linalg.solve(A, B ))"
   ]
  },
  {
   "cell_type": "code",
   "execution_count": 8,
   "metadata": {},
   "outputs": [],
   "source": [
    "def bsm_vega(S0, K, T, r, q,  sigma):\n",
    "    ''' Vega of European option in BSM model.\n",
    "    \n",
    "    Parameters\n",
    "    ==========\n",
    "    S0 : float\n",
    "        initial stock/index level\n",
    "    K : float\n",
    "        strike price\n",
    "    T : float\n",
    "        maturity date (in year fractions)\n",
    "    r : float\n",
    "        constant risk-free short rate\n",
    "    sigma : float\n",
    "        volatility factor in diffusion term\n",
    "    \n",
    "    Returns\n",
    "    =======\n",
    "    vega : float\n",
    "        partial derivative of BSM formula with respect\n",
    "        to sigma, i.e. Vega\n",
    "    '''\n",
    "    from math import log, sqrt\n",
    "    from scipy import stats\n",
    "\n",
    "    S0 = float(S0)\n",
    "    d1 = (log(S0 / K) + ((r - q) + 0.5 * sigma ** 2) * T) / (sigma * sqrt(T))\n",
    "    vega = S0 * np.exp(-q*T) * stats.norm.pdf(d1, 0.0, 1.0) * sqrt(T)\n",
    "    return vega"
   ]
  },
  {
   "cell_type": "code",
   "execution_count": 460,
   "metadata": {},
   "outputs": [],
   "source": [
    "def theta_calc(r, S, K, T, sigma):\n",
    "    \"Calculate BS price of call/put\"\n",
    "    d1 = (np.log(S/K) + (r + sigma**2/2)*T)/(sigma*np.sqrt(T))\n",
    "    d2 = d1 - sigma*np.sqrt(T)\n",
    "    #try:\n",
    "        #if type == \"c\":\n",
    "    theta_calc = -S*norm.pdf(d1, 0, 1)*sigma/(2*np.sqrt(T)) - r*K*np.exp(-r*T)*norm.cdf(d2, 0, 1)\n",
    "        #elif type == \"p\":\n",
    "            #theta_calc = -S*norm.pdf(d1, 0, 1)*sigma/(2*np.sqrt(T)) + r*K*np.exp(-r*T)*norm.cdf(-d2, 0, 1)\n",
    "    return theta_calc/365 #, theta(S, K, T, r, sigma)\n",
    "    #except:\n",
    "        #print(\"Please confirm option type, either 'c' for Call or 'p' for Put!\")"
   ]
  },
  {
   "cell_type": "code",
   "execution_count": 461,
   "metadata": {},
   "outputs": [
    {
     "data": {
      "text/plain": [
       "-0.007176618308454315"
      ]
     },
     "execution_count": 461,
     "metadata": {},
     "output_type": "execute_result"
    }
   ],
   "source": [
    "theta_calc(r = 0.03, S = 50, K = 45, T = 9/12, sigma = 0.2)"
   ]
  },
  {
   "cell_type": "code",
   "execution_count": 462,
   "metadata": {},
   "outputs": [
    {
     "data": {
      "text/plain": [
       "7.086333898580811"
      ]
     },
     "execution_count": 462,
     "metadata": {},
     "output_type": "execute_result"
    }
   ],
   "source": [
    "S0 = 50  # Current price\n",
    "T = 9/12  # Time to expiration\n",
    "sigma = 0.2  # Volatility\n",
    "q = 0.00  # Continuous dividends\n",
    "r = 0.03  # Risk-free rate\n",
    "K = 45\n",
    "\n",
    "\n",
    "european_bsm_value(S0, K, T, r, sigma, q, option_type = 'call')"
   ]
  },
  {
   "cell_type": "markdown",
   "metadata": {},
   "source": [
    "$ \\Delta_c = \\dfrac{V(S+dS)-V(S-dS) } {2dS}$\n",
    "\n",
    "$\\Gamma_c = \\dfrac{V(S+dS)- 2V(S) + V(S-dS) } {(dS)^2}$\n",
    "\n",
    "$\\Theta_f = \\dfrac{V(T-dt) - V(T)} {dt} $"
   ]
  },
  {
   "cell_type": "code",
   "execution_count": 57,
   "metadata": {},
   "outputs": [],
   "source": [
    "def ThetaFinDiffApprxF(vt_m,vt,dt):\n",
    "    return (vt_m-vt) / dt "
   ]
  },
  {
   "cell_type": "code",
   "execution_count": 58,
   "metadata": {},
   "outputs": [],
   "source": [
    "def relative_error(C_BS, C_approx):\n",
    "    return np.abs(C_BS - C_approx) / C_BS\n"
   ]
  },
  {
   "cell_type": "markdown",
   "metadata": {},
   "source": [
    "# Devoir 5"
   ]
  },
  {
   "cell_type": "code",
   "execution_count": 478,
   "metadata": {},
   "outputs": [
    {
     "data": {
      "text/plain": [
       "(4, [0.05, 0.28803813, 0.28075506, 0.28075578], 0.2807557778368447)"
      ]
     },
     "execution_count": 478,
     "metadata": {},
     "output_type": "execute_result"
    }
   ],
   "source": [
    "implied_vol_Newton( C=2.5, S=30, K=30, T=6/12, q=0.01, r=0.03, tol=10**(-6), x0=0.05)"
   ]
  },
  {
   "cell_type": "code",
   "execution_count": 473,
   "metadata": {},
   "outputs": [
    {
     "data": {
      "text/plain": [
       "1.151287632557029"
      ]
     },
     "execution_count": 473,
     "metadata": {},
     "output_type": "execute_result"
    }
   ],
   "source": [
    "S0 = 40  # Current price\n",
    "T = 5/12  # Time to expiration\n",
    "sigma = 0.1  # Volatility\n",
    "q = 0.01  # Continuous dividends\n",
    "r = 0.025  # Risk-free rate\n",
    "K = 40\n",
    "\n",
    "\n",
    "european_bsm_value(S0, K, T, r, sigma, q, option_type = 'call')"
   ]
  },
  {
   "cell_type": "code",
   "execution_count": 475,
   "metadata": {},
   "outputs": [
    {
     "name": "stdout",
     "output_type": "stream",
     "text": [
      "The implied volatiltiy at market price 1.35 is 0.11952050609588621\n"
     ]
    }
   ],
   "source": [
    "# Finding implied volatility using Bisection method\n",
    "\n",
    "a = 0.0001;\n",
    "b = 1;\n",
    "tol = 10**(-6);\n",
    "\n",
    "cMarket = 1.35;\n",
    "\n",
    "while (b-a > tol):\n",
    "    if european_bsm_value(S0, K, T, r, (a+b)/2, q, option_type = 'call') - cMarket > 0:\n",
    "        b = (a+b)/2\n",
    "    else :\n",
    "        a = (a+b)/2\n",
    "\n",
    "print(\"The implied volatiltiy at market price \" + str(cMarket) + \" is \"  + str(a))"
   ]
  },
  {
   "cell_type": "code",
   "execution_count": 479,
   "metadata": {},
   "outputs": [
    {
     "data": {
      "text/plain": [
       "(4, [0.05, 0.25978324, 0.25690308, 0.25690317], 0.2569031723648245)"
      ]
     },
     "execution_count": 479,
     "metadata": {},
     "output_type": "execute_result"
    }
   ],
   "source": [
    "implied_vol_Newton( C=2.75, S=40, K=40, T=5/12, q=0.01, r=0.025, tol=10**(-6), x0=0.05)"
   ]
  },
  {
   "cell_type": "code",
   "execution_count": 494,
   "metadata": {},
   "outputs": [],
   "source": [
    "def imp_vol_approx(C,S,K,T,r,q):\n",
    "    \n",
    "    vol_approx = (sqrt(2*np.pi)/S*sqrt(T))*((C-(((r-q)*T)*S)/2))/(1-(((r+q)*T)/2))\n",
    "    \n",
    "    #vol_newton = implied_vol_Newton( C, S, K, T, q, r, tol, x0)\n",
    "    \n",
    "    #relative_error = ((vol_approx-implied_vol_Newton( C, S, K, T, q, r, tol, x0))/implied_vol_Newton( C, S, K, T, q, r, tol, x0))\n",
    "    \n",
    "    relative_error = ((vol_approx-0.2569031723648245)/0.2569031723648245)\n",
    "    \n",
    "    return vol_approx, relative_error"
   ]
  },
  {
   "cell_type": "code",
   "execution_count": 495,
   "metadata": {},
   "outputs": [
    {
     "data": {
      "text/plain": [
       "(0.10696260273785332, -0.5836462362327031)"
      ]
     },
     "execution_count": 495,
     "metadata": {},
     "output_type": "execute_result"
    }
   ],
   "source": [
    "imp_vol_approx(C=2.75,S=40,K=40,T=5/12,r=0.025,q=0.01)"
   ]
  },
  {
   "cell_type": "code",
   "execution_count": 496,
   "metadata": {},
   "outputs": [
    {
     "data": {
      "text/plain": [
       "100.19895582438596"
      ]
     },
     "execution_count": 496,
     "metadata": {},
     "output_type": "execute_result"
    }
   ],
   "source": [
    "C = 0.04\n",
    "#y = 0.09\n",
    "t_cash_flow = [6/12, 12/12, 18/12, 24/12, 30/12, 36/12]\n",
    "n = len(t_cash_flow)\n",
    "v_cash_flow = get_value_cash_flows(n, C/2)\n",
    "\n",
    "bond_price(t_cash_flow, v_cash_flow)"
   ]
  },
  {
   "cell_type": "code",
   "execution_count": 497,
   "metadata": {},
   "outputs": [
    {
     "name": "stdout",
     "output_type": "stream",
     "text": [
      "0.1\n",
      "0.033082\n",
      "0.03886\n",
      "0.03891\n"
     ]
    },
    {
     "data": {
      "text/plain": [
       "0.0389095210938918"
      ]
     },
     "execution_count": 497,
     "metadata": {},
     "output_type": "execute_result"
    }
   ],
   "source": [
    "# Yield given price and cash flows \n",
    "yld = bond_yield_Newton(bond_price(t_cash_flow,v_cash_flow),\n",
    "                  n, t_cash_flow, v_cash_flow , tol = 10**(-6))\n",
    "yld"
   ]
  },
  {
   "cell_type": "code",
   "execution_count": 498,
   "metadata": {},
   "outputs": [
    {
     "name": "stdout",
     "output_type": "stream",
     "text": [
      "Yield: 0.03891\n",
      "Modified Duration: 2.8569\n",
      "Convexity: 8.405898\n"
     ]
    }
   ],
   "source": [
    "# Price, Duration and Convexity of bond given yield\n",
    "_, mod_dur, convxty  = price_duration_convexity(n,t_cash_flow,v_cash_flow, yld)\n",
    "print ('Yield: {}'.format(round(yld,6)))\n",
    "print ('Modified Duration: {}'.format(round(mod_dur,6)))\n",
    "print ('Convexity: {}'.format(round(convxty,6)))"
   ]
  },
  {
   "cell_type": "code",
   "execution_count": 538,
   "metadata": {},
   "outputs": [
    {
     "data": {
      "text/plain": [
       "108.0465545677911"
      ]
     },
     "execution_count": 538,
     "metadata": {},
     "output_type": "execute_result"
    }
   ],
   "source": [
    "C = 0.08\n",
    "y = 0.09\n",
    "t_cash_flow = [3/12, 6/12, 9/12, 12/12, 15/12, 18/12, 21/12, 24/12]\n",
    "n = len(t_cash_flow)\n",
    "v_cash_flow = get_value_cash_flows(n, C/4)\n",
    "\n",
    "bond_price(t_cash_flow, v_cash_flow)"
   ]
  },
  {
   "cell_type": "code",
   "execution_count": 512,
   "metadata": {},
   "outputs": [
    {
     "name": "stdout",
     "output_type": "stream",
     "text": [
      "Yield: 0.09\n",
      "Modified Duration: 1.866374\n",
      "Convexity: 3.634759\n"
     ]
    }
   ],
   "source": [
    "# Price, Duration and Convexity of bond given yield\n",
    "_, mod_dur, convxty  = price_duration_convexity(n,t_cash_flow,v_cash_flow, y)\n",
    "print ('Yield: {}'.format(round(y,6)))\n",
    "print ('Modified Duration: {}'.format(round(mod_dur,6)))\n",
    "print ('Convexity: {}'.format(round(convxty,6)))"
   ]
  },
  {
   "cell_type": "code",
   "execution_count": 523,
   "metadata": {},
   "outputs": [
    {
     "data": {
      "text/plain": [
       "107.95457633777836"
      ]
     },
     "execution_count": 523,
     "metadata": {},
     "output_type": "execute_result"
    }
   ],
   "source": [
    "B = bond_price(t_cash_flow, v_cash_flow)\n",
    "Bnew = B -D*0.04\n",
    "Bnew"
   ]
  },
  {
   "cell_type": "code",
   "execution_count": 561,
   "metadata": {},
   "outputs": [
    {
     "data": {
      "text/plain": [
       "107.95748414497837"
      ]
     },
     "execution_count": 561,
     "metadata": {},
     "output_type": "execute_result"
    }
   ],
   "source": [
    "B = bond_price(t_cash_flow, v_cash_flow)\n",
    "dy = 0.04\n",
    "BnewC = (B -D*dy) + 0.5*3.634759*dy**2\n",
    "BnewC"
   ]
  },
  {
   "cell_type": "code",
   "execution_count": 576,
   "metadata": {},
   "outputs": [
    {
     "data": {
      "text/plain": [
       "107.95457633777836"
      ]
     },
     "execution_count": 576,
     "metadata": {},
     "output_type": "execute_result"
    }
   ],
   "source": [
    "B = bond_price(t_cash_flow, v_cash_flow)\n",
    "dy = 0.04\n",
    "Bnew = B -D*dy\n",
    "Bnew"
   ]
  },
  {
   "cell_type": "code",
   "execution_count": 577,
   "metadata": {},
   "outputs": [
    {
     "data": {
      "text/plain": [
       "122.09260666160395"
      ]
     },
     "execution_count": 577,
     "metadata": {},
     "output_type": "execute_result"
    }
   ],
   "source": [
    "dy = 0.04\n",
    "dB = B + (B*(y+dy))\n",
    "dB"
   ]
  },
  {
   "cell_type": "code",
   "execution_count": 578,
   "metadata": {},
   "outputs": [
    {
     "data": {
      "text/plain": [
       "-0.11579759586107485"
      ]
     },
     "execution_count": 578,
     "metadata": {},
     "output_type": "execute_result"
    }
   ],
   "source": [
    "(Bnew-dB)/dB"
   ]
  },
  {
   "cell_type": "markdown",
   "metadata": {},
   "source": [
    "# SAMI EXAM"
   ]
  },
  {
   "cell_type": "markdown",
   "metadata": {},
   "source": [
    "# Question 1"
   ]
  },
  {
   "cell_type": "code",
   "execution_count": 467,
   "metadata": {},
   "outputs": [
    {
     "data": {
      "text/plain": [
       "(4, [0.2, 0.34671368, 0.33503799, 0.33501356], 0.3350135594689695)"
      ]
     },
     "execution_count": 467,
     "metadata": {},
     "output_type": "execute_result"
    }
   ],
   "source": [
    "\n",
    "C = 8.50\n",
    "S = 50\n",
    "K = 45\n",
    "T = 9/12\n",
    "q = 0.005\n",
    "r = 0.015\n",
    "tol = 10**(-8)\n",
    "x0 = 0.2\n",
    "\n",
    "implied_vol_Newton( C, S, K, T, q, r, tol, x0)"
   ]
  },
  {
   "cell_type": "code",
   "execution_count": 469,
   "metadata": {},
   "outputs": [
    {
     "name": "stdout",
     "output_type": "stream",
     "text": [
      "Iteration count to convergence: 4\n",
      "Approximate values at each iteration:\n",
      "Iteration 1: 0.5\n",
      "Iteration 2: 0.99678202\n",
      "Iteration 3: 1.00716117\n",
      "Iteration 4: 1.00716789\n",
      "Implied Volatility: 1.00716789\n"
     ]
    }
   ],
   "source": [
    "def implied_vol_Newton(C, S, K, T, q, r, tol, x0):\n",
    "    '''\n",
    "    Inputs \n",
    "        C : price of the call option\n",
    "        S : spot price of the underlying asset\n",
    "        K : strike price of the option\n",
    "        T : maturity of the option\n",
    "        q : dividend yield of the underlying asset\n",
    "        r : risk-free constant rate\n",
    "        tol : tolerance for declaring convergence of Newton's method\n",
    "        x0: initial guess\n",
    "        f_BS : Black-Scholes value for a call given volatility\n",
    "        vega_BS : vega of the call given volatility\n",
    "    Output: implied volatility\n",
    "    '''\n",
    "    x_new = x0\n",
    "    x_old = x0 - 1\n",
    "    it = 0\n",
    "    approx_values = []  # List to store approximate values\n",
    "    while True:\n",
    "        x_old_str = \"{:.8f}\".format(x_old)  # Format x_old to 8 decimal places\n",
    "        x_new_str = \"{:.8f}\".format(x_new)  # Format x_new to 8 decimal places\n",
    "        \n",
    "        if x_old_str == x_new_str:\n",
    "            break  # Stop iteration if 8 decimal places match\n",
    "            \n",
    "        x_old = x_new\n",
    "        approx_values.append(round(x_new, 8))  # Store approximate value\n",
    "        x_new = (x_new - (european_bsm_value(S, K, T, r, x_new, option_type='call', q=q) - C)\n",
    "                 / bsm_vega(S, K, T, r, q, x_new))\n",
    "        it += 1\n",
    "    \n",
    "    return it, approx_values, x_new\n",
    "\n",
    "# Given parameters\n",
    "S = 30\n",
    "K = 30\n",
    "T = 6/12\n",
    "q = 0.001\n",
    "r = 0.03\n",
    "tol = 10**(-6)\n",
    "x0 = 0.5\n",
    "\n",
    "iterations, approximate_values, implied_vol = implied_vol_Newton(C, S, K, T, q, r, tol, x0)\n",
    "\n",
    "# Report iteration count and every approximate value\n",
    "print(f\"Iteration count to convergence: {iterations}\")\n",
    "print(\"Approximate values at each iteration:\")\n",
    "for i, val in enumerate(approximate_values):\n",
    "    print(f\"Iteration {i + 1}: {val}\")\n",
    "\n",
    "# Report final implied volatility rounded to 8 decimal places\n",
    "print(f\"Implied Volatility: {implied_vol:.8f}\")\n"
   ]
  },
  {
   "cell_type": "markdown",
   "metadata": {},
   "source": [
    "# Question 2"
   ]
  },
  {
   "cell_type": "code",
   "execution_count": 465,
   "metadata": {},
   "outputs": [
    {
     "data": {
      "text/html": [
       "<div>\n",
       "<style scoped>\n",
       "    .dataframe tbody tr th:only-of-type {\n",
       "        vertical-align: middle;\n",
       "    }\n",
       "\n",
       "    .dataframe tbody tr th {\n",
       "        vertical-align: top;\n",
       "    }\n",
       "\n",
       "    .dataframe thead th {\n",
       "        text-align: right;\n",
       "    }\n",
       "</style>\n",
       "<table border=\"1\" class=\"dataframe\">\n",
       "  <thead>\n",
       "    <tr style=\"text-align: right;\">\n",
       "      <th></th>\n",
       "      <th>Maturity_in_months</th>\n",
       "      <th>Coupon_Rate</th>\n",
       "      <th>Price</th>\n",
       "    </tr>\n",
       "  </thead>\n",
       "  <tbody>\n",
       "    <tr>\n",
       "      <th>0</th>\n",
       "      <td>12</td>\n",
       "      <td>3</td>\n",
       "      <td>101.25</td>\n",
       "    </tr>\n",
       "    <tr>\n",
       "      <th>1</th>\n",
       "      <td>18</td>\n",
       "      <td>2</td>\n",
       "      <td>99.95</td>\n",
       "    </tr>\n",
       "    <tr>\n",
       "      <th>2</th>\n",
       "      <td>36</td>\n",
       "      <td>6</td>\n",
       "      <td>110.30</td>\n",
       "    </tr>\n",
       "  </tbody>\n",
       "</table>\n",
       "</div>"
      ],
      "text/plain": [
       "   Maturity_in_months  Coupon_Rate   Price\n",
       "0                  12            3  101.25\n",
       "1                  18            2   99.95\n",
       "2                  36            6  110.30"
      ]
     },
     "execution_count": 465,
     "metadata": {},
     "output_type": "execute_result"
    }
   ],
   "source": [
    "# Boostrapping\n",
    "\n",
    "# Inputs: Maturity, Coupon Rate and Price for a set of bonds with different maturities\n",
    "# Steps: \n",
    "# 1) Solve for the interest rate for known rates\n",
    "# 2) If there is a gap in maturities, make x as unknown and explain the rest as linear combinations of the unkonwn\n",
    "\n",
    "dt =     pd.DataFrame( {'Maturity_in_months' : [12, 18, 36],\n",
    "                        'Coupon_Rate' : [3, 2, 6],\n",
    "                        'Price' : [101.25, 99.95, 110.30]},\n",
    "                     columns = ['Maturity_in_months', 'Coupon_Rate', 'Price'])\n",
    "dt"
   ]
  },
  {
   "cell_type": "code",
   "execution_count": 445,
   "metadata": {},
   "outputs": [],
   "source": [
    "def risk_zero_curve(t):\n",
    "    return 0.02 +  (1 + 2*t**2)/(100+100*t**2)\n",
    "\n",
    "def disc(t):\n",
    "    return np.exp(- risk_zero_curve(t)*t)"
   ]
  },
  {
   "cell_type": "code",
   "execution_count": 446,
   "metadata": {},
   "outputs": [],
   "source": [
    "#semianual\n",
    "c = 0.05\n",
    "t_cash_flow = [5/12, 11/12, 17/12, 23/12, 29/12]\n",
    "v_cash_flow = get_value_cash_flows(5,c/2) #because semiannual\n",
    "discs = [disc(t) for t in t_cash_flow]\n",
    "n = len(t_cash_flow)"
   ]
  },
  {
   "cell_type": "code",
   "execution_count": 447,
   "metadata": {},
   "outputs": [
    {
     "name": "stdout",
     "output_type": "stream",
     "text": [
      "[0.4166666666666667, 0.9166666666666666, 1.4166666666666667, 1.9166666666666667, 2.4166666666666665]\n",
      "[2.5, 2.5, 2.5, 2.5, 102.5]\n",
      "[0.9869692739246305, 0.9688111917895599, 0.9493712550673131, 0.930004711658882, 0.9110717076132214]\n",
      "102.97274111145616\n"
     ]
    }
   ],
   "source": [
    "print (t_cash_flow)\n",
    "print (v_cash_flow)\n",
    "print (discs)\n",
    "print(bond_price(t_cash_flow, v_cash_flow))"
   ]
  },
  {
   "cell_type": "code",
   "execution_count": 412,
   "metadata": {},
   "outputs": [],
   "source": [
    "r_00 = 0.015\n",
    "def get_implied_rate_r01(B, c, r_00, x0=0.05):\n",
    "    '''\n",
    "    XXX\n",
    "    Semianual\n",
    "    '''\n",
    "    r_05 = lambda x: (r_00 + x)/2\n",
    "    r_1 = lambda x: x\n",
    "    \n",
    "    x_new = x0\n",
    "    x_old = x0 - 1\n",
    "    it = 0\n",
    "    while np.abs(x_new - x_old) > 10**(-6):\n",
    "        x_old = x_new\n",
    "        print (x_new)\n",
    "        f = ( c/2*np.exp(-0.5 * r_05(x_new)) +\n",
    "            (100 + c/2)*np.exp(-1 * r_1(x_new)) - B )\n",
    "        \n",
    "        f_p = ( -0.5 * c/2 * np.exp(-0.5 * r_05(x_new)) + \n",
    "                -1 * (100 + c/2) * np.exp(-1 * r_1(x_new)))\n",
    "        x_new = (x_new - f/f_p)\n",
    "    return x_new\n",
    "\n"
   ]
  },
  {
   "cell_type": "code",
   "execution_count": 414,
   "metadata": {},
   "outputs": [
    {
     "name": "stdout",
     "output_type": "stream",
     "text": [
      "0.05\n",
      "0.016857151366011028\n",
      "0.017269302864566474\n",
      "0.017270912857378293\n"
     ]
    },
    {
     "data": {
      "text/plain": [
       "(0.016135, 0.017271)"
      ]
     },
     "execution_count": 414,
     "metadata": {},
     "output_type": "execute_result"
    }
   ],
   "source": [
    "B = dt.Price[0]\n",
    "c = dt.Coupon_Rate[0]\n",
    "t = dt.Maturity_in_months[0]/12\n",
    "r_1 = get_implied_rate_r01(B,c,r_00) \n",
    "\n",
    "\n",
    "r_05 = lambda x: (r_00 + x)/2\n",
    "r_1\n",
    "r_05 = r_05(r_1)\n",
    "round(r_05, 6), round(r_1,6)"
   ]
  },
  {
   "cell_type": "code",
   "execution_count": 416,
   "metadata": {},
   "outputs": [
    {
     "name": "stdout",
     "output_type": "stream",
     "text": [
      "The value of r_15 is: 0.020270701315003227\n"
     ]
    }
   ],
   "source": [
    "import math\n",
    "\n",
    "# Given zero rates\n",
    "r_05\n",
    "r_1\n",
    "\n",
    "# Function definition\n",
    "def f(x):\n",
    "    return 1 * math.exp(-0.5 * r_05) + 1 * math.exp(-1 * r_1) + 101 * math.exp(-1.5 * x) - 99.95\n",
    "\n",
    "# Derivative of the function\n",
    "def f_prime(x):\n",
    "    return -1.5 * 101 * math.exp(-1.5 * x)\n",
    "\n",
    "# Initial guess for x\n",
    "x_guess = 0.05  # You can choose any initial guess\n",
    "\n",
    "# Newton's method\n",
    "max_iterations = 10000\n",
    "tolerance = 1e-6\n",
    "x_old = x_guess\n",
    "\n",
    "for i in range(max_iterations):\n",
    "    f_val = f(x_old)\n",
    "    f_prime_val = f_prime(x_old)\n",
    "    \n",
    "    x_new = x_old - f_val / f_prime_val\n",
    "    \n",
    "    if abs(x_new - x_old) < tolerance:\n",
    "        break\n",
    "    \n",
    "    x_old = x_new\n",
    "\n",
    "r_15 = x_old\n",
    "print(\"The value of r_15 is:\", r_15)\n"
   ]
  },
  {
   "cell_type": "code",
   "execution_count": 299,
   "metadata": {},
   "outputs": [
    {
     "name": "stdout",
     "output_type": "stream",
     "text": [
      "Calculated r_2: 0.018357\n",
      "Calculated r_2.5: 0.016442\n",
      "Calculated r_3: 0.014528093103768005\n"
     ]
    }
   ],
   "source": [
    "import math\n",
    "\n",
    "# Linear interpolation to find r_2 and r_2.5\n",
    "r_1 = 0.017271\n",
    "r_15 = 0.020271\n",
    "\n",
    "r_2 = 0.018357\n",
    "r_25 = 0.016442\n",
    "\n",
    "\n",
    "# Newton's method to find r_3\n",
    "def bond_price(r_3):\n",
    "    x = 0.016135\n",
    "    coupon = 2.5\n",
    "    price = 110.30\n",
    "    return coupon * math.exp(-0.5 * r_05) + coupon * math.exp(-1 * r_1) + coupon * math.exp(-1.5 * r_15) + coupon * math.exp(-2 * r_2) + coupon * math.exp(-2.5 * r_25) + 102.5 * math.exp(-3 * r_3) - price\n",
    "\n",
    "def bond_price_derivative(r_3):\n",
    "    return -102.5 * 3 * math.exp(-3 * r_3)\n",
    "\n",
    "# Initial guess for r_3\n",
    "r_3 = 0.05\n",
    "iterations = 0\n",
    "max_iterations = 100\n",
    "tolerance = 1e-6\n",
    "\n",
    "while True:\n",
    "    f_r_3 = bond_price(r_3)\n",
    "    f_prime_r_3 = bond_price_derivative(r_3)\n",
    "    \n",
    "    r_3_new = r_3 - f_r_3 / f_prime_r_3\n",
    "    \n",
    "    if abs(r_3_new - r_3) < tolerance:\n",
    "        break\n",
    "    \n",
    "    r_3 = r_3_new\n",
    "    iterations += 1\n",
    "    \n",
    "    if iterations >= max_iterations:\n",
    "        print(\"Did not converge within the maximum number of iterations.\")\n",
    "        break\n",
    "\n",
    "print(f\"Calculated r_2: {r_2}\")\n",
    "print(f\"Calculated r_2.5: {r_25}\")\n",
    "print(f\"Calculated r_3: {r_3}\")\n"
   ]
  },
  {
   "cell_type": "code",
   "execution_count": 402,
   "metadata": {},
   "outputs": [
    {
     "data": {
      "text/plain": [
       "0.015899546551884004"
      ]
     },
     "execution_count": 402,
     "metadata": {},
     "output_type": "execute_result"
    }
   ],
   "source": [
    "0.5*r_3+0.5*r_1"
   ]
  },
  {
   "cell_type": "code",
   "execution_count": 417,
   "metadata": {},
   "outputs": [],
   "source": [
    "def get_implied_rate_r03( B, c, r_05, r_1, r_15, x0 = 0.05):\n",
    "    '''\n",
    "    XXX\n",
    "    Semianual\n",
    "    '''\n",
    "\n",
    "    r_2 =  lambda x: 0.5*x + 0.5*r_1\n",
    "    r_25 = lambda x: (0.5/2)*x + (1.5/2)*r_1\n",
    "    r_3 = lambda x: x\n",
    "    \n",
    "    x_new = x0\n",
    "    x_old = x0 - 1\n",
    "    it = 0\n",
    "    while np.abs(x_new - x_old) > 10**(-6):\n",
    "        x_old = x_new\n",
    "        print ('Iter/Imp rate r03: {}/{}'.format(it,x_new))\n",
    "        it += 1\n",
    "        f = ( c/2*np.exp(-0.5 * r_05) +\n",
    "              c/2*np.exp(-1 * r_1) +\n",
    "              c/2*np.exp(-1.5 * r_15) +\n",
    "              c/2*np.exp(-2 * r_2(x_new)) +\n",
    "              c/2*np.exp(-2.5 * r_25(x_new)) +\n",
    "              (100 + c/2)*np.exp(-3 * r_3(x_new)) - B )\n",
    "        \n",
    "        f_p = ( -2 * c/2 * np.exp(-2 * r_2(x_new)) + \n",
    "                -2.5 * c/2 * np.exp(-2.5 * r_25(x_new)) +\n",
    "                -3 * (100 + c/2) * np.exp(-3 * r_3(x_new)) )\n",
    "        \n",
    "        x_new = (x_new - f/f_p)\n",
    "    return x_new"
   ]
  },
  {
   "cell_type": "code",
   "execution_count": 418,
   "metadata": {},
   "outputs": [
    {
     "name": "stdout",
     "output_type": "stream",
     "text": [
      "Iter/Imp rate r03: 0/0.05\n",
      "Iter/Imp rate r03: 1/0.02418389088365747\n",
      "Iter/Imp rate r03: 2/0.024402079117713076\n",
      "Iter/Imp rate r03: 3/0.02440814047059444\n"
     ]
    },
    {
     "data": {
      "text/plain": [
       "(0.020839612897574543, 0.019055265857524976, 0.024408306977673676)"
      ]
     },
     "execution_count": 418,
     "metadata": {},
     "output_type": "execute_result"
    }
   ],
   "source": [
    "## t = 3ans\n",
    "B = dt.Price[2]\n",
    "c = dt.Coupon_Rate[2]\n",
    "t = dt.Maturity_in_months[2]/12\n",
    "r_3 = get_implied_rate_r03(B,c,r_05,r_1,r_15,x0 = 0.05)\n",
    "\n",
    "# intermediate ts\n",
    "\n",
    "#r_2 = lambda x: 1/2*x + 1/2 * r_1\n",
    "#r_25 = lambda x: 1.5/2*x + 0.5/2 * r_1\n",
    "\n",
    "r_2 =  lambda x: 0.5*x + 0.5*r_1\n",
    "r_25 = lambda x: (0.5/2)*x + (1.5/2)*r_1\n",
    "\n",
    "r_2 = r_2(r_3)\n",
    "r_25 = r_25(r_3)\n",
    "\n",
    "r_2, r_25, r_3"
   ]
  },
  {
   "cell_type": "markdown",
   "metadata": {},
   "source": [
    "# Question 3 "
   ]
  },
  {
   "cell_type": "code",
   "execution_count": 444,
   "metadata": {},
   "outputs": [
    {
     "data": {
      "text/plain": [
       "102.97274111145616"
      ]
     },
     "execution_count": 444,
     "metadata": {},
     "output_type": "execute_result"
    }
   ],
   "source": [
    "C = 0.05\n",
    "#y = 0.09\n",
    "t_cash_flow = [5/12, 11/12, 17/12, 23/12, 29/12]\n",
    "n = len(t_cash_flow)\n",
    "v_cash_flow = get_value_cash_flows(n, C/2)\n",
    "\n",
    "# Bond price given zero rate curve\n",
    "def risk_zero_curve(t):\n",
    "    return 0.02 + (1+2*t**2)/(100+100*t**2)\n",
    "\n",
    "bond_price(t_cash_flow, v_cash_flow)"
   ]
  },
  {
   "cell_type": "code",
   "execution_count": 429,
   "metadata": {},
   "outputs": [
    {
     "name": "stdout",
     "output_type": "stream",
     "text": [
      "Cash Flow Date: 0.42 - Cash Flow Value: $2.50 - Discount Factor: 0.986969\n",
      "Cash Flow Date: 0.92 - Cash Flow Value: $2.50 - Discount Factor: 0.968811\n",
      "Cash Flow Date: 1.42 - Cash Flow Value: $2.50 - Discount Factor: 0.949371\n",
      "Cash Flow Date: 1.92 - Cash Flow Value: $2.50 - Discount Factor: 0.930005\n",
      "Cash Flow Date: 2.42 - Cash Flow Value: $102.50 - Discount Factor: 0.911072\n",
      "Final Cash Flow Date: 2.42 - Final Cash Flow Value: $102.50 - Discount Factor: 0.911072\n"
     ]
    }
   ],
   "source": [
    "import numpy as np\n",
    "\n",
    "def get_value_cash_flows(n, C, FV=100):\n",
    "    cash_flows = [C * FV] * n\n",
    "    cash_flows[-1] += FV  # Add principal at final cash flow\n",
    "    return cash_flows\n",
    "\n",
    "# Given cash flow dates for 28-month maturity\n",
    "cash_flow_dates = [5/12, 11/12, 17/12, 23/12, 29/12]\n",
    "\n",
    "# Bond price given zero rate curve\n",
    "def risk_zero_curve(t):\n",
    "    return 0.02 + (1+2*t**2)/(100+100*t**2)\n",
    "\n",
    "def calculate_discount_factors(cash_flow_dates):\n",
    "    return [np.exp(-risk_zero_curve(t)*t) for t in cash_flow_dates]\n",
    "\n",
    "def list_cash_flows_and_discount_factors():\n",
    "    cash_flows = get_value_cash_flows(len(cash_flow_dates), C/2, FV=100)\n",
    "    discount_factors = calculate_discount_factors(cash_flow_dates)\n",
    "    \n",
    "    for i in range(len(cash_flow_dates)):\n",
    "        print(f\"Cash Flow Date: {cash_flow_dates[i]:.2f} - Cash Flow Value: ${cash_flows[i]:.2f} - Discount Factor: {discount_factors[i]:.6f}\")\n",
    "\n",
    "    # Final Cash Flow (at maturity)\n",
    "    print(f\"Final Cash Flow Date: {cash_flow_dates[-1]:.2f} - Final Cash Flow Value: ${cash_flows[-1]:.2f} - Discount Factor: {discount_factors[-1]:.6f}\")\n",
    "\n",
    "# Outputting the cash flows, their dates, and discount factors\n",
    "list_cash_flows_and_discount_factors()\n",
    "\n"
   ]
  },
  {
   "cell_type": "code",
   "execution_count": 431,
   "metadata": {},
   "outputs": [
    {
     "name": "stdout",
     "output_type": "stream",
     "text": [
      "[0.9869692739246305, 0.9688111917895599, 0.9493712550673131, 0.930004711658882, 0.9110717076132214]\n"
     ]
    }
   ],
   "source": [
    "def disc(t):\n",
    "    return np.exp(- risk_zero_curve(t)*t)\n",
    "\n",
    "discs = [disc(t) for t in t_cash_flow]\n",
    "print (discs)"
   ]
  },
  {
   "cell_type": "code",
   "execution_count": 448,
   "metadata": {},
   "outputs": [
    {
     "name": "stdout",
     "output_type": "stream",
     "text": [
      "0.1\n",
      "0.033716\n",
      "0.038405\n",
      "0.038431\n"
     ]
    },
    {
     "data": {
      "text/plain": [
       "0.03843110015651552"
      ]
     },
     "execution_count": 448,
     "metadata": {},
     "output_type": "execute_result"
    }
   ],
   "source": [
    "# Yield given price and cash flows \n",
    "yld = bond_yield_Newton(bond_price(t_cash_flow,v_cash_flow),\n",
    "                  n, t_cash_flow, v_cash_flow , tol = 10**(-6))\n",
    "yld"
   ]
  },
  {
   "cell_type": "code",
   "execution_count": 449,
   "metadata": {},
   "outputs": [
    {
     "name": "stdout",
     "output_type": "stream",
     "text": [
      "0.1\n",
      "0.033716\n",
      "0.038405\n",
      "0.038431\n"
     ]
    },
    {
     "data": {
      "text/plain": [
       "102.97274111145616"
      ]
     },
     "execution_count": 449,
     "metadata": {},
     "output_type": "execute_result"
    }
   ],
   "source": [
    "B = bond_price(t_cash_flow, v_cash_flow)  \n",
    "y = bond_yield_Newton(B, n, t_cash_flow, v_cash_flow , tol = 10**(-6))\n",
    "y\n",
    "B"
   ]
  },
  {
   "cell_type": "code",
   "execution_count": 450,
   "metadata": {},
   "outputs": [
    {
     "name": "stdout",
     "output_type": "stream",
     "text": [
      "Yield: 0.038431\n",
      "Modified Duration: 2.299456\n",
      "Convexity: 5.450694\n"
     ]
    }
   ],
   "source": [
    "# Price, Duration and Convexity of bond given yield\n",
    "_, mod_dur, convxty  = price_duration_convexity(n,t_cash_flow,v_cash_flow, yld)\n",
    "print ('Yield: {}'.format(round(yld,6)))\n",
    "print ('Modified Duration: {}'.format(round(mod_dur,6)))\n",
    "print ('Convexity: {}'.format(round(convxty,6)))"
   ]
  },
  {
   "cell_type": "code",
   "execution_count": 451,
   "metadata": {},
   "outputs": [
    {
     "name": "stdout",
     "output_type": "stream",
     "text": [
      "Bond Price: 102.972741\n",
      "Bond Duration: 2.299456\n",
      "Bond Convexity: 5.450694\n"
     ]
    }
   ],
   "source": [
    "B, D, convexity = price_duration_convexity(n,t_cash_flow,v_cash_flow,y)\n",
    "print ('Bond Price: {}'.format(round(B,6)))\n",
    "print ('Bond Duration: {}'.format(round(D,6)))\n",
    "print ('Bond Convexity: {}'.format(round(convexity,6)))"
   ]
  },
  {
   "cell_type": "code",
   "execution_count": 452,
   "metadata": {},
   "outputs": [
    {
     "data": {
      "text/plain": [
       "(102.972741, 2.299456, 5.450694)"
      ]
     },
     "execution_count": 452,
     "metadata": {},
     "output_type": "execute_result"
    }
   ],
   "source": [
    "round(B,6),round(D,6),round(convexity,6)"
   ]
  },
  {
   "cell_type": "code",
   "execution_count": 453,
   "metadata": {},
   "outputs": [
    {
     "data": {
      "text/plain": [
       "236.781262"
      ]
     },
     "execution_count": 453,
     "metadata": {},
     "output_type": "execute_result"
    }
   ],
   "source": [
    "round(B*D,6) # dollar duration"
   ]
  },
  {
   "cell_type": "code",
   "execution_count": 456,
   "metadata": {},
   "outputs": [
    {
     "data": {
      "text/plain": [
       "561.272934"
      ]
     },
     "execution_count": 456,
     "metadata": {},
     "output_type": "execute_result"
    }
   ],
   "source": [
    "round(B*convexity,6) #dollar convexity"
   ]
  },
  {
   "cell_type": "code",
   "execution_count": 455,
   "metadata": {},
   "outputs": [
    {
     "data": {
      "text/plain": [
       "0.023678126167481096"
      ]
     },
     "execution_count": 455,
     "metadata": {},
     "output_type": "execute_result"
    }
   ],
   "source": [
    "B*D/10000"
   ]
  },
  {
   "cell_type": "markdown",
   "metadata": {},
   "source": [
    "# Question 4"
   ]
  },
  {
   "cell_type": "markdown",
   "metadata": {},
   "source": [
    "# Function to calculate Black-Scholes put option value\n",
    "def european_bsm_value( S0, K, T, r, sigma, option_type = 'call',q = 0 ):\n",
    "    ''' Valuation of European call option in BSM model.\n",
    "    Analytical formula.\n",
    "    \n",
    "    Parameters\n",
    "    ==========\n",
    "    option_type :  string\n",
    "        call/put\n",
    "    S0 : float\n",
    "        initial stock/index level\n",
    "    K : float\n",
    "        strike price\n",
    "    T : float\n",
    "        maturity date (in year fractions)\n",
    "    r : float\n",
    "        constant risk-free short rate\n",
    "    sigma : float\n",
    "        volatility factor in diffusion term\n",
    "    \n",
    "    Returns\n",
    "    =======\n",
    "    value : float\n",
    "        present value of the European call option\n",
    "    '''\n",
    "    from math import log, sqrt, exp\n",
    "    from scipy import stats\n",
    "    \n",
    "    if option_type not in ['call','put']:\n",
    "        print  ('Invalid option_type, input should be \"call\" or \"put\"}')\n",
    "        return None\n",
    "    \n",
    "    S0 = float(S0)\n",
    "    d1 = (log(S0) - log(K) + (r - q + 0.5 * sigma ** 2) * T) / (sigma * sqrt(T))\n",
    "    return d1\n",
    "    d2 = d1 - sigma * sqrt(T)\n",
    "    return d2\n",
    "    C = (S0 * exp(-q * T) * norm.cdf(d1)\n",
    "         - K * exp(-r * T) * norm.cdf(d2))\n",
    "    P = (K * exp(-r * T) * norm.cdf(-d2)  \n",
    "         - S0 * exp(-q * T) * norm.cdf(-d1))\n",
    "    if option_type == 'call':\n",
    "        return C,d1,d2\n",
    "    if option_type == 'put':\n",
    "        return P,d1,d2"
   ]
  },
  {
   "cell_type": "code",
   "execution_count": 457,
   "metadata": {},
   "outputs": [
    {
     "data": {
      "text/plain": [
       "3.9386434108756134"
      ]
     },
     "execution_count": 457,
     "metadata": {},
     "output_type": "execute_result"
    }
   ],
   "source": [
    "S0 = 50  # Current price\n",
    "T = 0.5  # Time to expiration\n",
    "sigma = 0.3  # Volatility\n",
    "q = 0.01  # Continuous dividends\n",
    "r = 0.03  # Risk-free rate\n",
    "K = 50\n",
    "\n",
    "\n",
    "european_bsm_value(S0, K, T, r, sigma, q, option_type = 'put')"
   ]
  },
  {
   "cell_type": "code",
   "execution_count": 458,
   "metadata": {},
   "outputs": [],
   "source": [
    "import math\n",
    "\n",
    "# Derivative of Black-Scholes put option w.r.t. strike price\n",
    "def derivative_BS_put(S0, K, T, q, r, sigma):\n",
    "    d1 = (np.log(S0) - np.log(K) + (r - q + sigma**2/2)*T) / (sigma*np.sqrt(T))\n",
    "    d2 = d1 - sigma*np.sqrt(T)\n",
    "    derivative = (np.exp((-r * T)) * (norm.cdf(-d2)))-1\n",
    "    return derivative\n",
    "\n",
    "# Newton's method to find implied strike\n",
    "def find_implied_strike(S0, T, q, r, sigma, tolerance, x0):\n",
    "    # Initial guess for strike price\n",
    "    x_new = x0\n",
    "    x_old = x0 - 1  # Initial guess slightly lower than S\n",
    "\n",
    "    count = 0\n",
    "    \n",
    "    while np.abs(x_new - x_old) > tolerance:\n",
    "        x_old = x_new\n",
    "        print (x_new)\n",
    "        count += 1\n",
    "        f  = european_bsm_value(S0, x_new, T, r, sigma, q, option_type = 'put') - (x_new - S0)\n",
    "        #f  = european_bsm_value(S0, x_new, T, r, sigma, q, option_type = 'put') - (S0)\n",
    "        f_p = derivative_BS_put(S0, x_new, T, q, r, sigma)\n",
    "        x_new = x_new - f / f_p\n",
    "    \n",
    "    return x_new, count"
   ]
  },
  {
   "cell_type": "code",
   "execution_count": 459,
   "metadata": {},
   "outputs": [
    {
     "name": "stdout",
     "output_type": "stream",
     "text": [
      "50\n",
      "58.13266028399134\n",
      "62.862109577421606\n",
      "64.518772412038\n",
      "64.68972829980311\n",
      "64.69136851278859\n"
     ]
    },
    {
     "data": {
      "text/plain": [
       "(64.69136866194297, 6)"
      ]
     },
     "execution_count": 459,
     "metadata": {},
     "output_type": "execute_result"
    }
   ],
   "source": [
    "find_implied_strike(S0 = 50, T = 0.5, q = 0.01, r=0.03, sigma=0.3, tolerance=10**(-6), x0=50)"
   ]
  },
  {
   "cell_type": "code",
   "execution_count": 372,
   "metadata": {},
   "outputs": [],
   "source": [
    "from math import log, sqrt, exp\n",
    "from scipy.stats import norm\n",
    "\n",
    "def find_strike_price(S, T, sigma, q, r, initial_guess):\n",
    "    K = initial_guess\n",
    "    epsilon = 1e-6  # convergence criterion\n",
    "    max_iterations = 1000\n",
    "\n",
    "    for iteration in range(max_iterations):\n",
    "        P_BS = european_bsm_value(S, K, T, r, sigma, q, option_type = 'put')\n",
    "        diff = P_BS - (K - S)\n",
    "\n",
    "        # Derivative of Black-Scholes put price with respect to K (simplified)\n",
    "        d2 = (log(S / K) + (r - q - 0.5 * sigma**2) * T) / (sigma * sqrt(T))\n",
    "        derivative = (exp(-r * T) * norm.cdf(-d2))-1\n",
    "\n",
    "        # Newton's method update\n",
    "        K_next = K - diff / derivative\n",
    "\n",
    "        # Output the current iteration and value\n",
    "        print(f\"Iteration {iteration + 1}: {K:.6f}\")\n",
    "\n",
    "        # Check convergence criterion (6 decimal places)\n",
    "        if abs(K - K_next) < epsilon:\n",
    "            print(f\"Convergence reached after {iteration + 1} iterations.\")\n",
    "            break\n",
    "\n",
    "        K = K_next  # Update K for the next iteration\n",
    "\n"
   ]
  },
  {
   "cell_type": "code",
   "execution_count": 397,
   "metadata": {},
   "outputs": [
    {
     "name": "stdout",
     "output_type": "stream",
     "text": [
      "Iteration 1: 50.000000\n",
      "Iteration 2: 56.555634\n",
      "Iteration 3: 60.128386\n",
      "Iteration 4: 61.244916\n",
      "Iteration 5: 61.338464\n",
      "Iteration 6: 61.339068\n",
      "Convergence reached after 6 iterations.\n"
     ]
    }
   ],
   "source": [
    "find_strike_price(S=50, T=0.5, sigma=0.25, q=0.01, r=0.03, initial_guess=50)"
   ]
  },
  {
   "cell_type": "code",
   "execution_count": null,
   "metadata": {},
   "outputs": [],
   "source": []
  }
 ],
 "metadata": {
  "kernelspec": {
   "display_name": "Python 3 (ipykernel)",
   "language": "python",
   "name": "python3"
  },
  "language_info": {
   "codemirror_mode": {
    "name": "ipython",
    "version": 3
   },
   "file_extension": ".py",
   "mimetype": "text/x-python",
   "name": "python",
   "nbconvert_exporter": "python",
   "pygments_lexer": "ipython3",
   "version": "3.11.5"
  }
 },
 "nbformat": 4,
 "nbformat_minor": 2
}
